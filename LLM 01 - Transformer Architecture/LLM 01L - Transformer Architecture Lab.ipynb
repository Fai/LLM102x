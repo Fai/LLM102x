{
 "cells": [
  {
   "cell_type": "markdown",
   "metadata": {
    "application/vnd.databricks.v1+cell": {
     "cellMetadata": {},
     "inputWidgets": {},
     "nuid": "cef04af4-1ead-44ca-8988-c10fa848fd96",
     "showTitle": false,
     "title": ""
    }
   },
   "source": [
    "\n",
    "<div style=\"text-align: center; line-height: 0; padding-top: 9px;\">\n",
    "  <img src=\"https://databricks.com/wp-content/uploads/2018/03/db-academy-rgb-1200px.png\" alt=\"Databricks Learning\" style=\"width: 600px\">\n",
    "</div>"
   ]
  },
  {
   "cell_type": "markdown",
   "metadata": {
    "application/vnd.databricks.v1+cell": {
     "cellMetadata": {},
     "inputWidgets": {},
     "nuid": "945bca3a-746b-40f6-af15-8fc6bc9b1619",
     "showTitle": false,
     "title": ""
    }
   },
   "source": [
    "# Lab: Diving into the Transformer - Utilizing embeddings from transformers\n",
    "\n",
    "In this lab, we will delve into the workings of the Transformer's encoder. We will build the components needed to create our encoder-based model and investigate the embeddings it produces. You will then be asked questions related to these embeddings, including comparisons, distance measurements, and the utilization of masked language modeling (MLM).\n",
    "\n",
    "### ![Dolly](https://files.training.databricks.com/images/llm/dolly_small.png) Learning Objectives\n",
    "1. Develop an encoder from scratch\n",
    "2. Investigating word embeddings (from our untrained models, and BERT)\n",
    "4. Gain practice in Masked Language Modeling (MLM)"
   ]
  },
  {
   "cell_type": "markdown",
   "metadata": {
    "application/vnd.databricks.v1+cell": {
     "cellMetadata": {},
     "inputWidgets": {},
     "nuid": "90b5a858-1b91-4f18-9800-003b95262b45",
     "showTitle": false,
     "title": ""
    }
   },
   "source": [
    "## Classroom Setup"
   ]
  },
  {
   "cell_type": "code",
   "execution_count": 0,
   "metadata": {
    "application/vnd.databricks.v1+cell": {
     "cellMetadata": {
      "byteLimit": 2048000,
      "rowLimit": 10000
     },
     "inputWidgets": {},
     "nuid": "879824a3-ac5a-4119-9303-f233502bc4f7",
     "showTitle": false,
     "title": ""
    }
   },
   "outputs": [
    {
     "output_type": "stream",
     "name": "stdout",
     "output_type": "stream",
     "text": [
      "\u001B[43mNote: you may need to restart the kernel using dbutils.library.restartPython() to use updated packages.\u001B[0m\n\u001B[43mNote: you may need to restart the kernel using dbutils.library.restartPython() to use updated packages.\u001B[0m\n"
     ]
    },
    {
     "output_type": "stream",
     "name": "stdout",
     "output_type": "stream",
     "text": [
      "Resetting the learning environment:\n| enumerating serving endpoints...found 7...(0 seconds)\n| No action taken\n\nSkipping install of existing datasets to \"dbfs:/mnt/dbacademy-datasets/llm-foundation-models/v01-raw\"\n\nValidating the locally installed datasets:\n| listing local files...(4 seconds)\n| removing extra path: /models/models--bert-base-uncased/.no_exist/86b5e0934494bd15c9632b12f734a8a67f723594/...(0 seconds)\n| removing extra path: /models/models--bert-base-uncased/snapshots/86b5e0934494bd15c9632b12f734a8a67f723594/...(0 seconds)\n| fixed 2 issues...(4 seconds total)\n"
     ]
    },
    {
     "output_type": "stream",
     "name": "stdout",
     "output_type": "stream",
     "text": [
      "Importing lab testing framework.\n"
     ]
    },
    {
     "output_type": "stream",
     "name": "stdout",
     "output_type": "stream",
     "text": [
      "\nUsing the \"default\" schema.\n\nPredefined paths variables:\n| DA.paths.working_dir: /dbfs/mnt/dbacademy-users/labuser6015492@vocareum.com/llm-foundation-models\n| DA.paths.user_db:     dbfs:/mnt/dbacademy-users/labuser6015492@vocareum.com/llm-foundation-models/database.db\n| DA.paths.datasets:    /dbfs/mnt/dbacademy-datasets/llm-foundation-models/v01-raw\n\nSetup completed (11 seconds)\n\nThe models developed or used in this course are for demonstration and learning purposes only.\nModels may occasionally output offensive, inaccurate, biased information, or harmful instructions.\n"
     ]
    },
    {
     "output_type": "execute_result",
     "data": {
      "text/plain": [
       "device(type='cpu')"
      ]
     },
     "execution_count": 15,
     "metadata": {},
     "output_type": "execute_result"
    }
   ],
   "source": [
    "%run ../Includes/Classroom-Setup"
   ]
  },
  {
   "cell_type": "code",
   "execution_count": 0,
   "metadata": {
    "application/vnd.databricks.v1+cell": {
     "cellMetadata": {
      "byteLimit": 2048000,
      "rowLimit": 10000
     },
     "inputWidgets": {},
     "nuid": "41e8775a-fdf9-4252-9e8f-2124bb831698",
     "showTitle": false,
     "title": ""
    }
   },
   "outputs": [],
   "source": [
    "# Import necessary libraries\n",
    "import torch\n",
    "import torch.nn as nn\n",
    "import torch.nn.functional as F\n",
    "import math"
   ]
  },
  {
   "cell_type": "markdown",
   "metadata": {
    "application/vnd.databricks.v1+cell": {
     "cellMetadata": {},
     "inputWidgets": {},
     "nuid": "3b7924a2-ade1-427b-8dae-b672478246c8",
     "showTitle": false,
     "title": ""
    }
   },
   "source": [
    "# Section 1 - Building our own Encoder Transformer"
   ]
  },
  {
   "cell_type": "markdown",
   "metadata": {
    "application/vnd.databricks.v1+cell": {
     "cellMetadata": {},
     "inputWidgets": {},
     "nuid": "eaa59e9b-83c1-452b-9070-895553f23f92",
     "showTitle": false,
     "title": ""
    }
   },
   "source": [
    "### Define the Feed Forward Network\n",
    "\n",
    "We begin by defining the FeedForward class, which represents a simple feed-forward neural network with two linear layers separated by a ReLU activation function, and a dropout layer for regularization."
   ]
  },
  {
   "cell_type": "code",
   "execution_count": 0,
   "metadata": {
    "application/vnd.databricks.v1+cell": {
     "cellMetadata": {
      "byteLimit": 2048000,
      "rowLimit": 10000
     },
     "inputWidgets": {},
     "nuid": "c2a341a7-b62b-4b38-964e-6b32148d14f6",
     "showTitle": false,
     "title": ""
    }
   },
   "outputs": [],
   "source": [
    "class FeedForward(nn.Module):\n",
    "    def __init__(self, d_model, hidden_dim, dropout = 0.1):\n",
    "        super(FeedForward, self).__init__()\n",
    "        self.fc1 = nn.Linear(d_model, hidden_dim)\n",
    "        self.fc2 = nn.Linear(hidden_dim, d_model)\n",
    "        self.dropout = nn.Dropout(dropout)\n",
    "\n",
    "    def forward(self, x):\n",
    "        out = self.fc1(x)\n",
    "        out = F.relu(out)\n",
    "        out = self.dropout(out)\n",
    "        out = self.fc2(out)\n",
    "        return out\n"
   ]
  },
  {
   "cell_type": "markdown",
   "metadata": {
    "application/vnd.databricks.v1+cell": {
     "cellMetadata": {},
     "inputWidgets": {},
     "nuid": "4271a2de-4e2b-482d-906a-144f3ab7ed5f",
     "showTitle": false,
     "title": ""
    }
   },
   "source": [
    "### Define the Transformer Encoder Block\n",
    "\n",
    "The TransformerEncoderBlock class represents a single block of the transformer encoder, which consists of a multi-head self-attention layer and a feed-forward neural network, with layer normalization and residual connections applied to the outputs of each layer."
   ]
  },
  {
   "cell_type": "code",
   "execution_count": 0,
   "metadata": {
    "application/vnd.databricks.v1+cell": {
     "cellMetadata": {
      "byteLimit": 2048000,
      "rowLimit": 10000
     },
     "inputWidgets": {},
     "nuid": "f24e2191-4a4e-4507-8fc9-fa6ad7e79179",
     "showTitle": false,
     "title": ""
    }
   },
   "outputs": [],
   "source": [
    "class TransformerEncoderBlock(nn.Module):\n",
    "    def __init__(self, d_model, num_heads, conv_hidden_dim, dropout=0.1):\n",
    "        super(TransformerEncoderBlock, self).__init__()\n",
    "        self.attention = nn.MultiheadAttention(d_model, num_heads, dropout=dropout)\n",
    "        self.norm1 = nn.LayerNorm(d_model)\n",
    "        self.norm2 = nn.LayerNorm(d_model)\n",
    "        self.feed_forward = FeedForward(d_model, conv_hidden_dim, dropout)\n",
    "        self.dropout = nn.Dropout(dropout)\n",
    "\n",
    "    def forward(self, x, mask=None):\n",
    "        # Multi-Head Attention\n",
    "        attn_output, _ = self.attention(x, x, x, attn_mask=mask)\n",
    "        x = x + self.dropout(attn_output)\n",
    "        x = self.norm1(x)\n",
    "\n",
    "        # Feed Forward Network\n",
    "        ff_output = self.feed_forward(x)\n",
    "        x = x + self.dropout(ff_output)\n",
    "        x = self.norm2(x)\n",
    "\n",
    "        return x\n"
   ]
  },
  {
   "cell_type": "markdown",
   "metadata": {
    "application/vnd.databricks.v1+cell": {
     "cellMetadata": {},
     "inputWidgets": {},
     "nuid": "61220b6e-f97c-4530-a9b6-72bc2212b31b",
     "showTitle": false,
     "title": ""
    }
   },
   "source": [
    "### Define the Transformer Encoder\n",
    "\n",
    "The TransformerEncoder class represents the complete transformer encoder, which consists of a word embedding layer, a positional encoding layer, and a series of transformer encoder blocks."
   ]
  },
  {
   "cell_type": "code",
   "execution_count": 0,
   "metadata": {
    "application/vnd.databricks.v1+cell": {
     "cellMetadata": {
      "byteLimit": 2048000,
      "rowLimit": 10000
     },
     "inputWidgets": {},
     "nuid": "093dec5e-34ca-4815-ab8d-3ac083129293",
     "showTitle": false,
     "title": ""
    }
   },
   "outputs": [],
   "source": [
    "class TransformerEncoder(nn.Module):\n",
    "    def __init__(self, vocab_size, d_model, num_heads, conv_hidden_dim, num_layers, dropout=0.1):\n",
    "        super(TransformerEncoder, self).__init__()\n",
    "        self.word_embedding = nn.Embedding(vocab_size, d_model)\n",
    "        self.position_embedding = nn.Embedding(1000, d_model)  # Assuming a maximum sequence length of 1000\n",
    "        self.layers = nn.ModuleList(\n",
    "            [\n",
    "                TransformerEncoderBlock(d_model, num_heads, conv_hidden_dim, dropout)\n",
    "                for _ in range(num_layers)\n",
    "            ]\n",
    "        )\n",
    "\n",
    "    def forward(self, x, mask=None):\n",
    "        seq_length = x.shape[1]\n",
    "        positions = torch.arange(0, seq_length).expand(x.shape[0], seq_length).to(x.device)\n",
    "        out = self.word_embedding(x) + self.position_embedding(positions)\n",
    "\n",
    "        for layer in self.layers:\n",
    "            out = layer(out, mask)\n",
    "\n",
    "        return out\n"
   ]
  },
  {
   "cell_type": "markdown",
   "metadata": {
    "application/vnd.databricks.v1+cell": {
     "cellMetadata": {},
     "inputWidgets": {},
     "nuid": "91d12998-07a2-42e8-83cf-c8b64233314e",
     "showTitle": false,
     "title": ""
    }
   },
   "source": [
    "### Instantiate the Model and Perform a Forward Pass\n",
    "\n",
    "We now instantiate the model with a specific set of hyperparameters, generate some random input data, and perform a forward pass through the model."
   ]
  },
  {
   "cell_type": "code",
   "execution_count": 0,
   "metadata": {
    "application/vnd.databricks.v1+cell": {
     "cellMetadata": {
      "byteLimit": 2048000,
      "rowLimit": 10000
     },
     "inputWidgets": {},
     "nuid": "21fe22c9-bb18-427f-b121-397d61e7dd37",
     "showTitle": false,
     "title": ""
    }
   },
   "outputs": [
    {
     "output_type": "stream",
     "name": "stdout",
     "output_type": "stream",
     "text": [
      "The model has 21,986,304 trainable parameters\n"
     ]
    }
   ],
   "source": [
    "# Assume the following hyperparameters\n",
    "vocab_size = 5000  # size of the vocabulary\n",
    "d_model = 512  # dimension of the word embedding\n",
    "num_heads = 8  # number of attention heads\n",
    "conv_hidden_dim = 2048  # dimension of the hidden layer in the feed-forward network\n",
    "num_layers = 6  # number of Transformer Encoder blocks\n",
    "dropout = 0.1  # dropout rate\n",
    "\n",
    "# Instantiate the model\n",
    "model = TransformerEncoder(vocab_size, d_model, num_heads, conv_hidden_dim, num_layers, dropout)\n",
    "\n",
    "# Generate some example input\n",
    "input_tensor = torch.randint(0, vocab_size, (1, 20))  # batch size of 1 and sequence length of 20\n",
    "\n",
    "# Forward pass through the model\n",
    "output = model(input_tensor, mask=None)\n",
    "\n",
    "\n",
    "\n",
    "print(f\"The model has {sum(p.numel() for p in model.parameters() if p.requires_grad):,} trainable parameters\")"
   ]
  },
  {
   "cell_type": "markdown",
   "metadata": {
    "application/vnd.databricks.v1+cell": {
     "cellMetadata": {},
     "inputWidgets": {},
     "nuid": "2169801b-4203-4510-ab2b-115cd66e4d01",
     "showTitle": false,
     "title": ""
    }
   },
   "source": [
    "### Investigate Word Embeddings\n",
    "\n",
    "We now generate some random input data and perform a forward pass through the model to obtain the embeddings for each word in the input."
   ]
  },
  {
   "cell_type": "code",
   "execution_count": 0,
   "metadata": {
    "application/vnd.databricks.v1+cell": {
     "cellMetadata": {
      "byteLimit": 2048000,
      "rowLimit": 10000
     },
     "inputWidgets": {},
     "nuid": "d69d7399-8566-4585-bd51-3257ffe22c43",
     "showTitle": false,
     "title": ""
    }
   },
   "outputs": [
    {
     "output_type": "stream",
     "name": "stdout",
     "output_type": "stream",
     "text": [
      "tensor([[[-2.3115e-03,  6.4092e-01, -7.0822e-01,  ..., -1.9446e+00,\n          -1.5021e-01,  1.1709e+00],\n         [-2.3884e+00,  2.0085e+00, -2.4212e-01,  ...,  1.2702e+00,\n           6.7902e-01,  6.0358e-01],\n         [ 2.1540e+00,  1.0100e+00, -6.1413e-02,  ...,  1.5380e+00,\n          -1.0289e+00, -2.8739e-01],\n         [ 5.0915e-01,  4.5560e-01, -2.1440e-01,  ...,  3.4647e+00,\n           6.9103e-01,  1.2802e+00],\n         [-1.5804e-01,  3.4480e-01,  9.5836e-01,  ...,  3.6449e-01,\n          -6.1935e-01, -1.3684e+00]]], grad_fn=<NativeLayerNormBackward0>)\n"
     ]
    }
   ],
   "source": [
    "# Generate some example input\n",
    "input_tensor = torch.randint(0, vocab_size, (1, 5))  # batch size of 1 and sequence length of 5\n",
    "\n",
    "# Forward pass through the model\n",
    "embeddings = model(input_tensor, mask=None)\n",
    "\n",
    "# The `embeddings` tensor now contains the contextualized embeddings for each word in the input sequence\n",
    "print(embeddings)\n"
   ]
  },
  {
   "cell_type": "markdown",
   "metadata": {
    "application/vnd.databricks.v1+cell": {
     "cellMetadata": {},
     "inputWidgets": {},
     "nuid": "c28f01f6-26ec-4ae0-9628-61221bf95c25",
     "showTitle": false,
     "title": ""
    }
   },
   "source": [
    "### Define Vocabulary and Word-to-ID Mapping\n",
    "\n",
    "To interpret the input and output of our model, we define a vocabulary and a mapping from words to their corresponding IDs."
   ]
  },
  {
   "cell_type": "code",
   "execution_count": 0,
   "metadata": {
    "application/vnd.databricks.v1+cell": {
     "cellMetadata": {
      "byteLimit": 2048000,
      "rowLimit": 10000
     },
     "inputWidgets": {},
     "nuid": "b0c05979-75cb-42fe-9c2b-7bcd5294f19c",
     "showTitle": false,
     "title": ""
    }
   },
   "outputs": [
    {
     "output_type": "stream",
     "name": "stdout",
     "output_type": "stream",
     "text": [
      "{'[PAD]': 0, '[UNK]': 1, '[CLS]': 2, '[SEP]': 3, '[MASK]': 4, 'the': 5, 'a': 6, 'an': 7, 'cat': 8, 'dog': 9, 'fish': 10, 'bird': 11, 'lion': 12, 'tiger': 13, 'elephant': 14, 'monkey': 15, 'runs': 16, 'jumps': 17, 'sleeps': 18, 'eats': 19, 'drinks': 20, 'fast': 21, 'slow': 22, 'big': 23, 'small': 24, 'red': 25, 'green': 26, 'blue': 27, 'yellow': 28, 'is': 29, 'was': 30, 'will': 31, 'can': 32, 'has': 33, 'have': 34, 'had': 35, 'do': 36, 'does': 37, 'I': 38, 'you': 39, 'he': 40, 'she': 41, 'it': 42, 'we': 43, 'they': 44, 'my': 45, 'your': 46, 'his': 47, 'her': 48, 'its': 49, 'our': 50, 'their': 51}\n"
     ]
    }
   ],
   "source": [
    "# Let's assume the following is our vocabulary\n",
    "vocabulary = [\n",
    "    \"[PAD]\", \"[UNK]\", \"[CLS]\", \"[SEP]\", \"[MASK]\", \n",
    "    \"the\", \"a\", \"an\", \n",
    "    \"cat\", \"dog\", \"fish\", \"bird\", \"lion\", \"tiger\", \"elephant\", \"monkey\",\n",
    "    \"runs\", \"jumps\", \"sleeps\", \"eats\", \"drinks\",\n",
    "    \"fast\", \"slow\", \"big\", \"small\", \"red\", \"green\", \"blue\", \"yellow\",\n",
    "    \"is\", \"was\", \"will\", \"can\", \"has\", \"have\", \"had\", \"do\", \"does\",\n",
    "    \"I\", \"you\", \"he\", \"she\", \"it\", \"we\", \"they\",\n",
    "    \"my\", \"your\", \"his\", \"her\", \"its\", \"our\", \"their\"\n",
    "]\n",
    "\n",
    "# Create a word2id dictionary\n",
    "word2id = {word: idx for idx, word in enumerate(vocabulary)}\n",
    "\n",
    "# Print the dictionary\n",
    "print(word2id)\n"
   ]
  },
  {
   "cell_type": "markdown",
   "metadata": {
    "application/vnd.databricks.v1+cell": {
     "cellMetadata": {},
     "inputWidgets": {},
     "nuid": "b00395d1-3135-4fcd-9c1b-ce35fd1f4c28",
     "showTitle": false,
     "title": ""
    }
   },
   "source": [
    "### Measure Sentence Similarity\n",
    "\n",
    "We define a function to measure the cosine similarity between two sentences, which is done by averaging the embeddings of the words in each sentence and then calculating the cosine similarity between these average embeddings."
   ]
  },
  {
   "cell_type": "code",
   "execution_count": 0,
   "metadata": {
    "application/vnd.databricks.v1+cell": {
     "cellMetadata": {
      "byteLimit": 2048000,
      "rowLimit": 10000
     },
     "inputWidgets": {},
     "nuid": "03653e44-df87-428a-bb87-6f547e2dd76d",
     "showTitle": false,
     "title": ""
    }
   },
   "outputs": [
    {
     "output_type": "stream",
     "name": "stdout",
     "output_type": "stream",
     "text": [
      "The cosine similarity between the sentences 'the cat has a blue fish' and 'my sister's dog sleeps' is 0.50.\n"
     ]
    }
   ],
   "source": [
    "# Define a simple function to calculate cosine similarity\n",
    "def cosine_similarity(vec1, vec2):\n",
    "    vec1 = vec1.squeeze()  # remove dimensions of size 1\n",
    "    vec2 = vec2.squeeze()  # remove dimensions of size 1\n",
    "    return torch.dot(vec1, vec2) / (torch.norm(vec1) * torch.norm(vec2))\n",
    "\n",
    "# Define a function to convert a sentence into embeddings\n",
    "def sentence_to_embeddings(sentence, model, word2id):\n",
    "    # Convert sentence to token ids\n",
    "    input_tensor = torch.tensor([word2id.get(word, word2id[\"[UNK]\"]) for word in sentence.split()], dtype=torch.long).unsqueeze(0)\n",
    "    embeddings = model(input_tensor, mask=None)\n",
    "    return embeddings\n",
    "\n",
    "# Define a function to compute the similarity between two sentences\n",
    "def sentence_similarity(sentence1, sentence2, model, word2id):\n",
    "    embeddings1 = sentence_to_embeddings(sentence1, model, word2id)\n",
    "    embeddings2 = sentence_to_embeddings(sentence2, model, word2id)\n",
    "\n",
    "    # Compute the average embeddings of each sentence\n",
    "    avg_embedding1 = torch.mean(embeddings1, dim=1)\n",
    "    avg_embedding2 = torch.mean(embeddings2, dim=1)\n",
    "\n",
    "    # Compute and return the cosine similarity\n",
    "    return cosine_similarity(avg_embedding1, avg_embedding2)\n",
    "\n",
    "# Now we can compute the similarity between two sentences\n",
    "sentence1 = \"the cat has a blue fish\"\n",
    "sentence2 = \"my sister's dog sleeps\"\n",
    "# Compute the similarity\n",
    "similarity = sentence_similarity(sentence1, sentence2, model, word2id)\n",
    "\n",
    "# Extract the value from the tensor and convert it to a Python float\n",
    "similarity_score = similarity.item()\n",
    "\n",
    "# Print the result with a descriptive sentence\n",
    "print(f\"The cosine similarity between the sentences '{sentence1}' and '{sentence2}' is {similarity_score:.2f}.\")"
   ]
  },
  {
   "cell_type": "markdown",
   "metadata": {
    "application/vnd.databricks.v1+cell": {
     "cellMetadata": {},
     "inputWidgets": {},
     "nuid": "caa1bcd3-1507-4424-8f3e-9bdae70042a9",
     "showTitle": false,
     "title": ""
    }
   },
   "source": [
    "### Visualize Word Embeddings\n",
    "\n",
    "We define a function to visualize the embeddings of a set of words in 2D space, which is done by using PCA to reduce the dimensionality of the embeddings to 2 and then plotting them."
   ]
  },
  {
   "cell_type": "code",
   "execution_count": 0,
   "metadata": {
    "application/vnd.databricks.v1+cell": {
     "cellMetadata": {
      "byteLimit": 2048000,
      "rowLimit": 10000
     },
     "inputWidgets": {},
     "nuid": "4659cbff-1a51-44f3-970a-de8c3c073c04",
     "showTitle": false,
     "title": ""
    }
   },
   "outputs": [
    {
     "output_type": "display_data",
     "data": {
      "image/png": "[encoded data removed]",
      "text/plain": [
       "<Figure size 800x800 with 1 Axes>"
      ]
     },
     "metadata": {},
     "output_type": "display_data"
    }
   ],
   "source": [
    "# Import necessary libraries\n",
    "import numpy as np\n",
    "from sklearn.decomposition import PCA\n",
    "import matplotlib.pyplot as plt\n",
    "\n",
    "# Define a list of words to plot\n",
    "words = [\n",
    "    # Animals\n",
    "    \"cat\", \"dog\", \"fish\", \"bird\", \"lion\", \"tiger\", \"elephant\", \"monkey\",\n",
    "    # Colors\n",
    "    \"red\", \"green\", \"blue\", \"yellow\", \"black\", \"white\", \"pink\", \"orange\",\n",
    "    # Verbs\n",
    "    \"run\", \"jump\", \"swim\", \"fly\", \"eat\", \"drink\", \"sleep\", \"play\"\n",
    "]\n",
    "# Create artificial embeddings for demonstration purposes\n",
    "embeddings = np.array([np.random.rand(512) for _ in words])  # 512 is the dimension of the embeddings\n",
    "\n",
    "# Use PCA to reduce the dimensionality of the embeddings to 2\n",
    "pca = PCA(n_components=2)\n",
    "embeddings_2d = pca.fit_transform(embeddings)\n",
    "\n",
    "# Plot the embeddings\n",
    "plt.figure(figsize=(8, 8))\n",
    "plt.scatter(embeddings_2d[:, 0], embeddings_2d[:, 1],s=500)\n",
    "for i, word in enumerate(words):\n",
    "    plt.annotate(word, xy=(embeddings_2d[i, 0], embeddings_2d[i, 1]))\n",
    "plt.show()\n",
    "\n"
   ]
  },
  {
   "cell_type": "markdown",
   "metadata": {
    "application/vnd.databricks.v1+cell": {
     "cellMetadata": {},
     "inputWidgets": {},
     "nuid": "9dc06480-d543-4db9-80f9-ad7b1d9cc0a4",
     "showTitle": false,
     "title": ""
    }
   },
   "source": [
    "### Compare with Pre-Trained BERT Embeddings\n",
    "\n",
    "We load a pre-trained BERT model, generate embeddings for a set of words, and visualize them in the same way as before."
   ]
  },
  {
   "cell_type": "code",
   "execution_count": 0,
   "metadata": {
    "application/vnd.databricks.v1+cell": {
     "cellMetadata": {
      "byteLimit": 2048000,
      "rowLimit": 10000
     },
     "inputWidgets": {},
     "nuid": "d282fe72-f09f-4880-84c9-6ada71f42833",
     "showTitle": false,
     "title": ""
    }
   },
   "outputs": [
    {
     "output_type": "stream",
     "name": "stderr",
     "output_type": "stream",
     "text": [
      "/databricks/python/lib/python3.10/site-packages/huggingface_hub/file_download.py:133: UserWarning: `huggingface_hub` cache-system uses symlinks by default to efficiently store duplicated files but your machine does not support them in /dbfs/mnt/dbacademy-datasets/llm-foundation-models/v01-raw/models. Caching files will still work but in a degraded version that might require more space on your disk. This warning can be disabled by setting the `HF_HUB_DISABLE_SYMLINKS_WARNING` environment variable. For more details, see https://huggingface.co/docs/huggingface_hub/how-to-cache#limitations.\n  warnings.warn(message)\n"
     ]
    },
    {
     "output_type": "display_data",
     "data": {
      "application/vnd.jupyter.widget-view+json": {
       "model_id": "5504fdeb2d3f40b0b62a8ad5a6b26ba4",
       "version_major": 2,
       "version_minor": 0
      },
      "text/plain": [
       "Downloading model.safetensors:   0%|          | 0.00/440M [00:00<?, ?B/s]"
      ]
     },
     "metadata": {},
     "output_type": "display_data"
    },
    {
     "output_type": "stream",
     "name": "stderr",
     "output_type": "stream",
     "text": [
      "Some weights of the model checkpoint at bert-base-uncased were not used when initializing BertModel: ['cls.predictions.transform.dense.bias', 'cls.seq_relationship.bias', 'cls.predictions.transform.LayerNorm.weight', 'cls.predictions.transform.dense.weight', 'cls.predictions.transform.LayerNorm.bias', 'cls.seq_relationship.weight', 'cls.predictions.bias']\n- This IS expected if you are initializing BertModel from the checkpoint of a model trained on another task or with another architecture (e.g. initializing a BertForSequenceClassification model from a BertForPreTraining model).\n- This IS NOT expected if you are initializing BertModel from the checkpoint of a model that you expect to be exactly identical (initializing a BertForSequenceClassification model from a BertForSequenceClassification model).\n"
     ]
    },
    {
     "output_type": "display_data",
     "data": {
      "application/vnd.jupyter.widget-view+json": {
       "model_id": "dfc9ffcd987d40f6b47511d9850493e2",
       "version_major": 2,
       "version_minor": 0
      },
      "text/plain": [
       "Downloading tokenizer_config.json:   0%|          | 0.00/48.0 [00:00<?, ?B/s]"
      ]
     },
     "metadata": {},
     "output_type": "display_data"
    },
    {
     "output_type": "display_data",
     "data": {
      "image/png": "[encoded data removed]",
      "text/plain": [
       "<Figure size 800x800 with 1 Axes>"
      ]
     },
     "metadata": {},
     "output_type": "display_data"
    }
   ],
   "source": [
    "# Import necessary libraries\n",
    "from transformers import BertModel, BertTokenizer\n",
    "import torch\n",
    "import numpy as np\n",
    "from sklearn.decomposition import PCA\n",
    "import matplotlib.pyplot as plt\n",
    "\n",
    "# Load pre-trained BERT model and tokenizer\n",
    "model_name = \"bert-base-uncased\"\n",
    "model_bert = BertModel.from_pretrained(model_name, cache_dir=DA.paths.datasets+\"/models\")\n",
    "tokenizer = BertTokenizer.from_pretrained(model_name, cache_dir=DA.paths.datasets+\"/models\")\n",
    "\n",
    "# Define a list of words to plot\n",
    "words = [\n",
    "    # Animals\n",
    "    \"cat\", \"dog\", \"fish\", \"bird\", \"lion\", \"tiger\", \"elephant\", \"monkey\",\n",
    "    # Colors\n",
    "    \"red\", \"green\", \"blue\", \"yellow\", \"black\", \"white\", \"pink\", \"orange\",\n",
    "    # Verbs\n",
    "    \"run\", \"jump\", \"swim\", \"fly\", \"eat\", \"drink\", \"sleep\", \"play\"\n",
    "]\n",
    "# Get the embeddings of the words\n",
    "embeddings = []\n",
    "for word in words:\n",
    "    inputs = tokenizer(word, return_tensors=\"pt\")\n",
    "    with torch.no_grad():\n",
    "        outputs = model_bert(**inputs)\n",
    "    embeddings.append(outputs.last_hidden_state[0, 0, :].numpy())\n",
    "\n",
    "# Use PCA to reduce the dimensionality of the embeddings to 2\n",
    "pca = PCA(n_components=2)\n",
    "embeddings_2d = pca.fit_transform(embeddings)\n",
    "\n",
    "# Plot the embeddings\n",
    "plt.figure(figsize=(8, 8))\n",
    "plt.scatter(embeddings_2d[:, 0], embeddings_2d[:, 1],s=500)\n",
    "for i, word in enumerate(words):\n",
    "    plt.annotate(word, xy=(embeddings_2d[i, 0], embeddings_2d[i, 1]))\n",
    "plt.show()"
   ]
  },
  {
   "cell_type": "markdown",
   "metadata": {
    "application/vnd.databricks.v1+cell": {
     "cellMetadata": {},
     "inputWidgets": {},
     "nuid": "73860f1f-831f-4a9e-b74e-9c2a87930573",
     "showTitle": false,
     "title": ""
    }
   },
   "source": [
    "# Section 1 - Questions\n",
    "\n",
    "Having built our transformer encoder and inspected the embeddings it produces, we can now explore some questions related to these embeddings.\n",
    "\n",
    "**Question 1:** \n",
    "How does changing different hyperparameters (e.g., the dimension of the word embeddings, the number of attention heads, the dimension of the hidden layer in the feed-forward network, the number of encoder blocks, and the dropout rate) affect the overall size of the model?"
   ]
  },
  {
   "cell_type": "code",
   "execution_count": 0,
   "metadata": {
    "application/vnd.databricks.v1+cell": {
     "cellMetadata": {
      "byteLimit": 2048000,
      "rowLimit": 10000
     },
     "inputWidgets": {},
     "nuid": "d18feddf-6848-42fd-8461-87edb860533e",
     "showTitle": false,
     "title": ""
    }
   },
   "outputs": [],
   "source": [
    "def count_parameters(model):\n",
    "    return sum(p.numel() for p in model.parameters() if p.requires_grad)"
   ]
  },
  {
   "cell_type": "code",
   "execution_count": 0,
   "metadata": {
    "application/vnd.databricks.v1+cell": {
     "cellMetadata": {
      "byteLimit": 2048000,
      "rowLimit": 10000
     },
     "inputWidgets": {},
     "nuid": "0f664147-f559-45cf-a3cf-b3710a12cd6c",
     "showTitle": false,
     "title": ""
    }
   },
   "outputs": [
    {
     "output_type": "stream",
     "name": "stdout",
     "output_type": "stream",
     "text": [
      "The model has 20,962,304 trainable parameters, compared to the 21,986,304 of the original model\n"
     ]
    }
   ],
   "source": [
    "# TODO\n",
    "# Use different parameters to see the effects on the overall model size. \n",
    "# Create a Transformer Encoder with different hyperparameters\n",
    "vocab_size = 3000  # size of the vocabulary\n",
    "d_model = 512  # dimension of the word embedding\n",
    "num_heads = 8  # number of attention heads\n",
    "conv_hidden_dim = 2048  # dimension of the hidden layer in the feed-forward network\n",
    "num_layers = 6  # number of Transformer Encoder blocks\n",
    "dropout = 0.1  # dropout rate\n",
    "new_model = TransformerEncoder(vocab_size, d_model, num_heads, conv_hidden_dim, num_layers, dropout)\n",
    "print(f\"The model has {count_parameters(new_model):,} trainable parameters, compared to the 21,986,304 of the original model\")"
   ]
  },
  {
   "cell_type": "code",
   "execution_count": 0,
   "metadata": {
    "application/vnd.databricks.v1+cell": {
     "cellMetadata": {
      "byteLimit": 2048000,
      "rowLimit": 10000
     },
     "inputWidgets": {},
     "nuid": "caea482a-2bd2-41e3-a27e-3e9d4d0d9d77",
     "showTitle": false,
     "title": ""
    }
   },
   "outputs": [
    {
     "output_type": "stream",
     "name": "stdout",
     "output_type": "stream",
     "text": [
      "\u001B[32mPASSED\u001B[0m: All tests passed for lesson1, question1\n\u001B[32mRESULTS RECORDED\u001B[0m: Click `Submit` when all questions are completed to log the results.\n"
     ]
    }
   ],
   "source": [
    "# Test your answer. DO NOT MODIFY THIS CELL.\n",
    "\n",
    "dbTestQuestion1_1(new_model)"
   ]
  },
  {
   "cell_type": "markdown",
   "metadata": {
    "application/vnd.databricks.v1+cell": {
     "cellMetadata": {},
     "inputWidgets": {},
     "nuid": "75f9cfa0-fcf0-4072-bb59-2e9c6a969232",
     "showTitle": false,
     "title": ""
    }
   },
   "source": [
    "**Question 2:** \n",
    "Visualize the embeddings of a different set of words. Try choosing a set of words that are related in some way, such as words related to a particular topic or words that are all of a certain type (e.g., all verbs or all nouns)."
   ]
  },
  {
   "cell_type": "code",
   "execution_count": 0,
   "metadata": {
    "application/vnd.databricks.v1+cell": {
     "cellMetadata": {
      "byteLimit": 2048000,
      "rowLimit": 10000
     },
     "inputWidgets": {},
     "nuid": "fcde7fea-ccea-43d0-b98b-a11352ec6086",
     "showTitle": false,
     "title": ""
    }
   },
   "outputs": [
    {
     "output_type": "display_data",
     "data": {
      "image/png": "[encoded data removed]",
      "text/plain": [
       "<Figure size 800x800 with 1 Axes>"
      ]
     },
     "metadata": {},
     "output_type": "display_data"
    }
   ],
   "source": [
    "# TODO\n",
    "words = [\n",
    "    # coffee\n",
    "    \"americano\", \"latte\", \"cappucino\", \"mocha\", \"espresso\", \"frappe\", \"elephant\", \"monkey\",\n",
    "    # wine\n",
    "    \"cabernet sauvignon\", \"merlot\", \"pinot noir\", \"chardonnay\", \"sauvignon blanc\", \"pinot grigio\"\n",
    "    # whiskey\n",
    "    \"bourbon\", \"rye\", \"scotch\", \"irish\", \"blended\", \"single malt\"\n",
    "]\n",
    "\n",
    "# Get the embeddings of the words\n",
    "embeddings = []\n",
    "for word in words:\n",
    "    inputs = tokenizer(word, return_tensors='pt')\n",
    "    with torch.no_grad():\n",
    "        outputs = model_bert(**inputs)\n",
    "    embeddings.append(outputs.last_hidden_state[0, 0, :].numpy())\n",
    "\n",
    "# Use PCA to reduce the dimensionality of the embeddings to 2\n",
    "pca = PCA(n_components=2)\n",
    "embeddings_2d = pca.fit_transform(embeddings)\n",
    "\n",
    "# Plot the embeddings\n",
    "plt.figure(figsize=(8, 8))\n",
    "plt.scatter(embeddings_2d[:, 0], embeddings_2d[:, 1],s=500)\n",
    "for i, word in enumerate(words):\n",
    "    plt.annotate(word, xy=(embeddings_2d[i, 0], embeddings_2d[i, 1]))\n",
    "plt.show()"
   ]
  },
  {
   "cell_type": "code",
   "execution_count": 0,
   "metadata": {
    "application/vnd.databricks.v1+cell": {
     "cellMetadata": {
      "byteLimit": 2048000,
      "rowLimit": 10000
     },
     "inputWidgets": {},
     "nuid": "daa78c85-62e3-4907-9f4e-76434bcf2998",
     "showTitle": false,
     "title": ""
    }
   },
   "outputs": [
    {
     "output_type": "stream",
     "name": "stdout",
     "output_type": "stream",
     "text": [
      "\u001B[32mPASSED\u001B[0m: All tests passed for lesson1, question2\n\u001B[32mRESULTS RECORDED\u001B[0m: Click `Submit` when all questions are completed to log the results.\n"
     ]
    }
   ],
   "source": [
    "# Test your answer. DO NOT MODIFY THIS CELL.\n",
    "\n",
    "dbTestQuestion1_2(words)"
   ]
  },
  {
   "cell_type": "markdown",
   "metadata": {
    "application/vnd.databricks.v1+cell": {
     "cellMetadata": {},
     "inputWidgets": {},
     "nuid": "7ba1a439-220f-466e-a5c2-fc0d40c396d3",
     "showTitle": false,
     "title": ""
    }
   },
   "source": [
    "**Question 3:** \n",
    "Compute the cosine similarity between the embeddings of a sentence and its scrambled version. For example, compare the sentence \"the cat chased the dog\" with \"dog the chased cat the\". What do you observe?"
   ]
  },
  {
   "cell_type": "code",
   "execution_count": 0,
   "metadata": {
    "application/vnd.databricks.v1+cell": {
     "cellMetadata": {
      "byteLimit": 2048000,
      "rowLimit": 10000
     },
     "inputWidgets": {},
     "nuid": "16611cd9-811a-4957-a0a3-5765ebaaf427",
     "showTitle": false,
     "title": ""
    }
   },
   "outputs": [
    {
     "output_type": "stream",
     "name": "stdout",
     "output_type": "stream",
     "text": [
      "Cosine similarity between original and scrambled sentence embeddings: 0.9999999403953552\n"
     ]
    }
   ],
   "source": [
    "# TODO\n",
    "# Define a sentence and its scrambled version\n",
    "sentence_q3 = \"the cat chased the dog\"\n",
    "scrambled_sentence_q3 = \"dog the chased cat the\"\n",
    "\n",
    "# Compute embeddings and cosine similarity\n",
    "original_embedding = []\n",
    "for word in sentence_q3.split():\n",
    "    inputs = tokenizer(word, return_tensors='pt')\n",
    "    with torch.no_grad():\n",
    "        outputs = model_bert(**inputs)\n",
    "    original_embedding.append(outputs.last_hidden_state[0, 0, :].numpy())\n",
    "scrambled_embedding = []\n",
    "for word in scrambled_sentence_q3.split():\n",
    "    inputs = tokenizer(word, return_tensors='pt')\n",
    "    with torch.no_grad():\n",
    "        outputs = model_bert(**inputs)\n",
    "    scrambled_embedding.append(outputs.last_hidden_state[0, 0, :].numpy())\n",
    "\n",
    "# Compute the average embeddings of each sentence\n",
    "avg_embedding_original = np.mean(original_embedding, axis=0)\n",
    "avg_embedding_scrambled = np.mean(scrambled_embedding, axis=0)\n",
    "\n",
    "avg_embedding_original_tensor = torch.tensor(avg_embedding_original)\n",
    "avg_embedding_scrambled_tensor = torch.tensor(avg_embedding_scrambled)\n",
    "\n",
    "similarity = cosine_similarity(avg_embedding_original_tensor.unsqueeze(0), avg_embedding_scrambled_tensor.unsqueeze(0))\n",
    "print(\"Cosine similarity between original and scrambled sentence embeddings:\", similarity.item())"
   ]
  },
  {
   "cell_type": "code",
   "execution_count": 0,
   "metadata": {
    "application/vnd.databricks.v1+cell": {
     "cellMetadata": {
      "byteLimit": 2048000,
      "rowLimit": 10000
     },
     "inputWidgets": {},
     "nuid": "994616dd-0e2b-4a74-b70b-e7b8dd406aed",
     "showTitle": false,
     "title": ""
    }
   },
   "outputs": [
    {
     "output_type": "stream",
     "name": "stdout",
     "output_type": "stream",
     "text": [
      "\u001B[32mPASSED\u001B[0m: All tests passed for lesson1, question3\n\u001B[32mRESULTS RECORDED\u001B[0m: Click `Submit` when all questions are completed to log the results.\n"
     ]
    }
   ],
   "source": [
    "# Test your answer. DO NOT MODIFY THIS CELL.\n",
    "\n",
    "dbTestQuestion1_3(sentence_q3, scrambled_sentence_q3)"
   ]
  },
  {
   "cell_type": "markdown",
   "metadata": {
    "application/vnd.databricks.v1+cell": {
     "cellMetadata": {},
     "inputWidgets": {},
     "nuid": "47a832fe-eba3-46e4-bdf0-fd269a0dc678",
     "showTitle": false,
     "title": ""
    }
   },
   "source": [
    "**Question 4:** \n",
    "Compute the cosine similarity between the embeddings of a word used in two different contexts. For example, try the word `bank`, \"he needs to bank the money\" vs. \"he is going to the bank of the river\". What do you observe?"
   ]
  },
  {
   "cell_type": "code",
   "execution_count": 0,
   "metadata": {
    "application/vnd.databricks.v1+cell": {
     "cellMetadata": {
      "byteLimit": 2048000,
      "rowLimit": 10000
     },
     "inputWidgets": {},
     "nuid": "34c6eeed-a6ce-4c4f-96cf-20eb9a1cb9f7",
     "showTitle": false,
     "title": ""
    }
   },
   "outputs": [
    {
     "output_type": "stream",
     "name": "stdout",
     "output_type": "stream",
     "text": [
      "Cosine similarity between embeddings of the word 'bank' in two different contexts: 0.9967749118804932\n"
     ]
    }
   ],
   "source": [
    "# TODO\n",
    "# Define two sentences where a word has different meanings\n",
    "sentence_q4a = \"he needs to bank the money\"\n",
    "sentence_q4b = \"he is going to the bank of the river\"\n",
    "# Compute embeddings and cosine similarity\n",
    "embedding1 = []\n",
    "for word in sentence_q4a.split():\n",
    "    inputs = tokenizer(word, return_tensors='pt')\n",
    "    with torch.no_grad():\n",
    "        outputs = model_bert(**inputs)\n",
    "    embedding1.append(outputs.last_hidden_state[0, 0, :].numpy())\n",
    "embedding2 = []\n",
    "for word in sentence_q4b.split():\n",
    "    inputs = tokenizer(word, return_tensors='pt')\n",
    "    with torch.no_grad():\n",
    "        outputs = model_bert(**inputs)\n",
    "    embedding2.append(outputs.last_hidden_state[0, 0, :].numpy())\n",
    "\n",
    "# Compute the average embeddings of each sentence\n",
    "avg_embedding1 = np.mean(embedding1, axis=0)\n",
    "avg_embedding2 = np.mean(embedding2, axis=0)\n",
    "\n",
    "\n",
    "avg_embedding1_tensor = torch.tensor(avg_embedding1)\n",
    "avg_embedding2_tensor = torch.tensor(avg_embedding2)\n",
    "\n",
    "similarity = cosine_similarity(avg_embedding1_tensor.unsqueeze(0), avg_embedding2_tensor.unsqueeze(0))\n",
    "print(f\"Cosine similarity between embeddings of the word 'bank' in two different contexts: {similarity.item()}\")"
   ]
  },
  {
   "cell_type": "code",
   "execution_count": 0,
   "metadata": {
    "application/vnd.databricks.v1+cell": {
     "cellMetadata": {
      "byteLimit": 2048000,
      "rowLimit": 10000
     },
     "inputWidgets": {},
     "nuid": "626a73cc-5c24-400e-9eb8-d9922a201cd6",
     "showTitle": false,
     "title": ""
    }
   },
   "outputs": [
    {
     "output_type": "stream",
     "name": "stdout",
     "output_type": "stream",
     "text": [
      "\u001B[32mPASSED\u001B[0m: All tests passed for lesson1, question4\n\u001B[32mRESULTS RECORDED\u001B[0m: Click `Submit` when all questions are completed to log the results.\n"
     ]
    }
   ],
   "source": [
    "# Test your answer. DO NOT MODIFY THIS CELL.\n",
    "\n",
    "dbTestQuestion1_4(sentence_q4a, sentence_q4b)"
   ]
  },
  {
   "cell_type": "markdown",
   "metadata": {
    "application/vnd.databricks.v1+cell": {
     "cellMetadata": {},
     "inputWidgets": {},
     "nuid": "4fc3677d-dfb5-4f05-b120-f1a3a369a321",
     "showTitle": false,
     "title": ""
    }
   },
   "source": [
    "# Section 2 - Masked Language Modeling (MLM) with BERT\n",
    "\n",
    "One of the training tasks for BERT is Masked Language Modeling (MLM). In MLM, some percentage of the input tokens are masked at random, and the objective is to predict the original vocabulary id of the masked word based only on its context. Unlike traditional language modeling, MLM is not a sequential task because BERT uses the entire context (left and right of the mask) to predict the masked word. This allows BERT to pre-train a deep bidirectional representation in a straightforward way, which is difficult in standard language modeling."
   ]
  },
  {
   "cell_type": "markdown",
   "metadata": {
    "application/vnd.databricks.v1+cell": {
     "cellMetadata": {},
     "inputWidgets": {},
     "nuid": "36e0a5db-a82f-4f51-b8cf-800ec5a8161e",
     "showTitle": false,
     "title": ""
    }
   },
   "source": [
    "### Masked Language Modeling with BERT\n",
    "\n",
    "We load a pre-trained BERT model that has been fine-tuned for the masked language modeling (MLM) task. We then define a function to predict the word that should fill a `[MASK]` token in a sentence."
   ]
  },
  {
   "cell_type": "code",
   "execution_count": 0,
   "metadata": {
    "application/vnd.databricks.v1+cell": {
     "cellMetadata": {
      "byteLimit": 2048000,
      "rowLimit": 10000
     },
     "inputWidgets": {},
     "nuid": "4533b0c4-6962-4d57-90e6-7fc7c50ddd9d",
     "showTitle": false,
     "title": ""
    }
   },
   "outputs": [
    {
     "output_type": "stream",
     "name": "stderr",
     "output_type": "stream",
     "text": [
      "Some weights of the model checkpoint at bert-base-uncased were not used when initializing BertForMaskedLM: ['cls.seq_relationship.bias', 'cls.seq_relationship.weight']\n- This IS expected if you are initializing BertForMaskedLM from the checkpoint of a model trained on another task or with another architecture (e.g. initializing a BertForSequenceClassification model from a BertForPreTraining model).\n- This IS NOT expected if you are initializing BertForMaskedLM from the checkpoint of a model that you expect to be exactly identical (initializing a BertForSequenceClassification model from a BertForSequenceClassification model).\n"
     ]
    },
    {
     "output_type": "stream",
     "name": "stdout",
     "output_type": "stream",
     "text": [
      ". i love to play the ball . i\n"
     ]
    }
   ],
   "source": [
    "# Import the necessary libraries\n",
    "from transformers import BertTokenizer, BertForMaskedLM\n",
    "\n",
    "# Load pre-trained model and tokenizer\n",
    "tokenizer = BertTokenizer.from_pretrained(\"bert-base-uncased\", cache_dir=DA.paths.datasets+\"/models\")\n",
    "mlm_model = BertForMaskedLM.from_pretrained(\"bert-base-uncased\", cache_dir=DA.paths.datasets+\"/models\")\n",
    "\n",
    "# Define a function to predict masked words\n",
    "def predict_masked_words(sentence, model, tokenizer):\n",
    "    inputs = tokenizer(sentence, return_tensors=\"pt\")\n",
    "    with torch.no_grad():\n",
    "        outputs = model(**inputs)\n",
    "    predicted_token_ids = outputs.logits.argmax(dim=-1)\n",
    "    predicted_tokens = tokenizer.convert_ids_to_tokens(predicted_token_ids[0])\n",
    "    return \" \".join(predicted_tokens)\n",
    "\n",
    "# Define a sentence with a masked word\n",
    "sentence = \"I love to play [MASK] ball.\"\n",
    "print(predict_masked_words(sentence, mlm_model, tokenizer))"
   ]
  },
  {
   "cell_type": "markdown",
   "metadata": {
    "application/vnd.databricks.v1+cell": {
     "cellMetadata": {},
     "inputWidgets": {},
     "nuid": "e9d53d93-22f9-490f-9ac2-d20beaa49a59",
     "showTitle": false,
     "title": ""
    }
   },
   "source": [
    "### Predict Different Masked Words\n",
    "\n",
    "We define different sentences with masked words and use our model to predict what these masked words should be."
   ]
  },
  {
   "cell_type": "code",
   "execution_count": 0,
   "metadata": {
    "application/vnd.databricks.v1+cell": {
     "cellMetadata": {
      "byteLimit": 2048000,
      "rowLimit": 10000
     },
     "inputWidgets": {},
     "nuid": "137878d8-11fe-4b1d-a3d7-90105cc6ec27",
     "showTitle": false,
     "title": ""
    }
   },
   "outputs": [
    {
     "output_type": "stream",
     "name": "stdout",
     "output_type": "stream",
     "text": [
      ". the weather today is warm . .\n. i like to eat it for breakfast . i\n. she is a beautiful woman . .\n. he drives a sports car . .\n. they are going to the hospital . .\n"
     ]
    }
   ],
   "source": [
    "# Define different sentences with masked words\n",
    "sentences = [\n",
    "    \"The weather today is [MASK].\",\n",
    "    \"I like to eat [MASK] for breakfast.\",\n",
    "    \"She is a [MASK] woman.\",\n",
    "    \"He drives a [MASK] car.\",\n",
    "    \"They are going to the [MASK].\"\n",
    "]\n",
    "\n",
    "# Use the model to predict the masked words\n",
    "for sentence in sentences:\n",
    "    print(predict_masked_words(sentence, mlm_model, tokenizer))"
   ]
  },
  {
   "cell_type": "markdown",
   "metadata": {
    "application/vnd.databricks.v1+cell": {
     "cellMetadata": {},
     "inputWidgets": {},
     "nuid": "8dffeb17-8907-4ad5-b84f-09d5003ec6b5",
     "showTitle": false,
     "title": ""
    }
   },
   "source": [
    "### Experiment with Different Sentences\n",
    "\n",
    "We define even more sentences with masked words and use our model to predict what these masked words should be."
   ]
  },
  {
   "cell_type": "code",
   "execution_count": 0,
   "metadata": {
    "application/vnd.databricks.v1+cell": {
     "cellMetadata": {
      "byteLimit": 2048000,
      "rowLimit": 10000
     },
     "inputWidgets": {},
     "nuid": "d959bf88-4498-4577-9b6a-a7cbb8ce3618",
     "showTitle": false,
     "title": ""
    }
   },
   "outputs": [
    {
     "output_type": "stream",
     "name": "stdout",
     "output_type": "stream",
     "text": [
      ". my favorite color is pink . .\n. the cat sat on the floor . .\n. i am reading a comic book . .\n. she has a basket of apples . .\n. he plays the guitar in a band . .\n"
     ]
    }
   ],
   "source": [
    "# Define more sentences with masked words\n",
    "sentences = [\n",
    "    \"My favorite color is [MASK].\",\n",
    "    \"The cat sat on the [MASK].\",\n",
    "    \"I am reading a [MASK] book.\",\n",
    "    \"She has a [MASK] of apples.\",\n",
    "    \"He plays the [MASK] in a band.\"\n",
    "]\n",
    "\n",
    "# Use the model to predict the masked words\n",
    "for sentence in sentences:\n",
    "    print(predict_masked_words(sentence, mlm_model, tokenizer))"
   ]
  },
  {
   "cell_type": "markdown",
   "metadata": {
    "application/vnd.databricks.v1+cell": {
     "cellMetadata": {},
     "inputWidgets": {},
     "nuid": "8ba7a421-2a53-46fd-b47f-85235ed3a071",
     "showTitle": false,
     "title": ""
    }
   },
   "source": [
    "# Section 2 - Questions\n",
    "\n",
    "Having explored the use of BERT for masked language modeling, we can now explore some questions related to this task.\n",
    "\n",
    "**Question 5:** \n",
    "What happens when you mask more than one word in a sentence? Can the model accurately predict both masked words?"
   ]
  },
  {
   "cell_type": "code",
   "execution_count": 0,
   "metadata": {
    "application/vnd.databricks.v1+cell": {
     "cellMetadata": {
      "byteLimit": 2048000,
      "rowLimit": 10000
     },
     "inputWidgets": {},
     "nuid": "878a1693-8e1c-4715-9d3f-cf9515d1ce76",
     "showTitle": false,
     "title": ""
    }
   },
   "outputs": [
    {
     "output_type": "stream",
     "name": "stdout",
     "output_type": "stream",
     "text": [
      ". my favorite k - pop stars are pink and me . .\n"
     ]
    }
   ],
   "source": [
    "# TODO\n",
    "# Define a sentence with two masked words\n",
    "sentence_q5 = \"My favorite k-pop stars are [MASK] and [MASK].\"\n",
    "print(predict_masked_words(sentence_q5, mlm_model, tokenizer))"
   ]
  },
  {
   "cell_type": "code",
   "execution_count": 0,
   "metadata": {
    "application/vnd.databricks.v1+cell": {
     "cellMetadata": {
      "byteLimit": 2048000,
      "rowLimit": 10000
     },
     "inputWidgets": {},
     "nuid": "ff5d34a7-d29c-41b8-8a81-fce3b4838682",
     "showTitle": false,
     "title": ""
    }
   },
   "outputs": [
    {
     "output_type": "stream",
     "name": "stdout",
     "output_type": "stream",
     "text": [
      "\u001B[32mPASSED\u001B[0m: All tests passed for lesson1, question5\n\u001B[32mRESULTS RECORDED\u001B[0m: Click `Submit` when all questions are completed to log the results.\n"
     ]
    }
   ],
   "source": [
    "# Test your answer. DO NOT MODIFY THIS CELL.\n",
    "\n",
    "dbTestQuestion1_5(sentence_q5)"
   ]
  },
  {
   "cell_type": "markdown",
   "metadata": {
    "application/vnd.databricks.v1+cell": {
     "cellMetadata": {},
     "inputWidgets": {},
     "nuid": "0239c68d-cdb8-409a-8215-3466bdc8f394",
     "showTitle": false,
     "title": ""
    }
   },
   "source": [
    "**Question 6:** \n",
    "Use the model to predict the masked word in a sentence in a language other than English. Does the model accurately predict the masked word? Think about why/why not."
   ]
  },
  {
   "cell_type": "code",
   "execution_count": 0,
   "metadata": {
    "application/vnd.databricks.v1+cell": {
     "cellMetadata": {
      "byteLimit": 2048000,
      "rowLimit": 10000
     },
     "inputWidgets": {},
     "nuid": "11fa3be5-7457-4e91-8da4-7d6404a584d3",
     "showTitle": false,
     "title": ""
    }
   },
   "outputs": [
    {
     "output_type": "stream",
     "name": "stdout",
     "output_type": "stream",
     "text": [
      ". j ' aim ##e le plus . .\n"
     ]
    }
   ],
   "source": [
    "# TODO\n",
    "# Define a sentence in French with a masked word\n",
    "sentence_q6 = \"j'aime le plus [MASK]\"\n",
    "print(predict_masked_words(sentence_q6, mlm_model, tokenizer))"
   ]
  },
  {
   "cell_type": "code",
   "execution_count": 0,
   "metadata": {
    "application/vnd.databricks.v1+cell": {
     "cellMetadata": {
      "byteLimit": 2048000,
      "rowLimit": 10000
     },
     "inputWidgets": {},
     "nuid": "bc5d90f7-2935-41c2-ad1a-4c57d8c3a4f2",
     "showTitle": false,
     "title": ""
    }
   },
   "outputs": [
    {
     "output_type": "stream",
     "name": "stdout",
     "output_type": "stream",
     "text": [
      "\u001B[32mPASSED\u001B[0m: All tests passed for lesson1, question6\n\u001B[32mRESULTS RECORDED\u001B[0m: Click `Submit` when all questions are completed to log the results.\n"
     ]
    }
   ],
   "source": [
    "# Test your answer. DO NOT MODIFY THIS CELL.\n",
    "\n",
    "dbTestQuestion1_6(sentence_q6)"
   ]
  },
  {
   "cell_type": "markdown",
   "metadata": {
    "application/vnd.databricks.v1+cell": {
     "cellMetadata": {},
     "inputWidgets": {},
     "nuid": "7254d4ea-6511-401a-a150-6cf6b27a3e41",
     "showTitle": false,
     "title": ""
    }
   },
   "source": [
    "**Question 7:** \n",
    "Mask a word that has different meanings in different contexts. Does the model accurately predict the correct word based on the context?"
   ]
  },
  {
   "cell_type": "code",
   "execution_count": 0,
   "metadata": {
    "application/vnd.databricks.v1+cell": {
     "cellMetadata": {
      "byteLimit": 2048000,
      "rowLimit": 10000
     },
     "inputWidgets": {},
     "nuid": "b517ae7a-af86-422f-ac5f-43ccba446564",
     "showTitle": false,
     "title": ""
    }
   },
   "outputs": [
    {
     "output_type": "stream",
     "name": "stdout",
     "output_type": "stream",
     "text": [
      ". i love your new hair style . this is so . .\n. this soup is too hot . you need to wait for it to cool down . .\n"
     ]
    }
   ],
   "source": [
    "# TODO\n",
    "# Define two sentences where a word has different meanings\n",
    "sentence_q7a = \"I love your new hair style.This is so [MASK]\"\n",
    "sentence_q7b = \"This soup is too [MASK]. You need to wait for it to cool down.\"\n",
    "print(predict_masked_words(sentence_q7a, mlm_model, tokenizer))\n",
    "print(predict_masked_words(sentence_q7b, mlm_model, tokenizer))"
   ]
  },
  {
   "cell_type": "code",
   "execution_count": 0,
   "metadata": {
    "application/vnd.databricks.v1+cell": {
     "cellMetadata": {
      "byteLimit": 2048000,
      "rowLimit": 10000
     },
     "inputWidgets": {},
     "nuid": "ce724f0c-7e4e-4f46-9562-adc594d8ba37",
     "showTitle": false,
     "title": ""
    }
   },
   "outputs": [
    {
     "output_type": "stream",
     "name": "stdout",
     "output_type": "stream",
     "text": [
      "\u001B[32mPASSED\u001B[0m: All tests passed for lesson1, question7\n\u001B[32mRESULTS RECORDED\u001B[0m: Click `Submit` when all questions are completed to log the results.\n"
     ]
    }
   ],
   "source": [
    "# Test your answer. DO NOT MODIFY THIS CELL.\n",
    "\n",
    "dbTestQuestion1_7(sentence_q7a, sentence_q7b)"
   ]
  },
  {
   "cell_type": "markdown",
   "metadata": {
    "application/vnd.databricks.v1+cell": {
     "cellMetadata": {},
     "inputWidgets": {},
     "nuid": "819e133b-530c-4f67-a3d4-216aa2391eb8",
     "showTitle": false,
     "title": ""
    }
   },
   "source": [
    "**Question 8:** \n",
    "Mask a word in a sentence that makes sense only in a specific cultural context. Does the model accurately predict the masked word?"
   ]
  },
  {
   "cell_type": "code",
   "execution_count": 0,
   "metadata": {
    "application/vnd.databricks.v1+cell": {
     "cellMetadata": {
      "byteLimit": 2048000,
      "rowLimit": 10000
     },
     "inputWidgets": {},
     "nuid": "748eab8a-f3c0-4bf1-9b0e-704e2b870a1a",
     "showTitle": false,
     "title": ""
    }
   },
   "outputs": [
    {
     "output_type": "stream",
     "name": "stdout",
     "output_type": "stream",
     "text": [
      ". we are thai people , we usually end our sentences with . or . .\n"
     ]
    }
   ],
   "source": [
    "# TODO\n",
    "# Define a sentence that makes sense only in a specific cultural context\n",
    "sentence_q8 = \"We are Thai people, we usually end our sentences with [MASK] or [MASK]\"\n",
    "print(predict_masked_words(sentence_q8, mlm_model, tokenizer))"
   ]
  },
  {
   "cell_type": "code",
   "execution_count": 0,
   "metadata": {
    "application/vnd.databricks.v1+cell": {
     "cellMetadata": {
      "byteLimit": 2048000,
      "rowLimit": 10000
     },
     "inputWidgets": {},
     "nuid": "e0cd2884-eaa3-4407-989c-fa085e3ec572",
     "showTitle": false,
     "title": ""
    }
   },
   "outputs": [
    {
     "output_type": "stream",
     "name": "stdout",
     "output_type": "stream",
     "text": [
      "\u001B[32mPASSED\u001B[0m: All tests passed for lesson1, question8\n\u001B[32mRESULTS RECORDED\u001B[0m: Click `Submit` when all questions are completed to log the results.\n"
     ]
    }
   ],
   "source": [
    "# Test your answer. DO NOT MODIFY THIS CELL.\n",
    "\n",
    "dbTestQuestion1_8(sentence_q8)"
   ]
  },
  {
   "cell_type": "markdown",
   "metadata": {
    "application/vnd.databricks.v1+cell": {
     "cellMetadata": {},
     "inputWidgets": {},
     "nuid": "a7d1658f-161d-4c6b-aee8-27a32d2b57cb",
     "showTitle": false,
     "title": ""
    }
   },
   "source": [
    "**Question 9:** \n",
    "Mask a word in a sentence that contains an idiomatic expression. Does the model accurately predict the masked word?"
   ]
  },
  {
   "cell_type": "code",
   "execution_count": 0,
   "metadata": {
    "application/vnd.databricks.v1+cell": {
     "cellMetadata": {
      "byteLimit": 2048000,
      "rowLimit": 10000
     },
     "inputWidgets": {},
     "nuid": "1c0e6cfb-ea70-44d0-8deb-11cd927f0c09",
     "showTitle": false,
     "title": ""
    }
   },
   "outputs": [
    {
     "output_type": "stream",
     "name": "stdout",
     "output_type": "stream",
     "text": [
      ". the quick brown fox jumps over the little . .\n"
     ]
    }
   ],
   "source": [
    "# TODO\n",
    "# Define a sentence that contains an idiomatic expression\n",
    "sentence_q9 = \"The quick brown fox jumps over the [MASK] dog\"\n",
    "print(predict_masked_words(sentence_q9, mlm_model, tokenizer))"
   ]
  },
  {
   "cell_type": "code",
   "execution_count": 0,
   "metadata": {
    "application/vnd.databricks.v1+cell": {
     "cellMetadata": {
      "byteLimit": 2048000,
      "rowLimit": 10000
     },
     "inputWidgets": {},
     "nuid": "043a4f26-4a21-4901-8ca5-82339246ff47",
     "showTitle": false,
     "title": ""
    }
   },
   "outputs": [
    {
     "output_type": "stream",
     "name": "stdout",
     "output_type": "stream",
     "text": [
      "\u001B[32mPASSED\u001B[0m: All tests passed for lesson1, question9\n\u001B[32mRESULTS RECORDED\u001B[0m: Click `Submit` when all questions are completed to log the results.\n"
     ]
    }
   ],
   "source": [
    "# Test your answer. DO NOT MODIFY THIS CELL.\n",
    "\n",
    "dbTestQuestion1_9(sentence_q9)"
   ]
  },
  {
   "cell_type": "markdown",
   "metadata": {
    "application/vnd.databricks.v1+cell": {
     "cellMetadata": {},
     "inputWidgets": {},
     "nuid": "efec93f2-e434-420e-9d66-2ac9fa203a81",
     "showTitle": false,
     "title": ""
    }
   },
   "source": [
    "&copy; 2023 Databricks, Inc. All rights reserved.<br/>\n",
    "Apache, Apache Spark, Spark and the Spark logo are trademarks of the <a href=\"https://www.apache.org/\">Apache Software Foundation</a>.<br/>\n",
    "<br/>\n",
    "<a href=\"https://databricks.com/privacy-policy\">Privacy Policy</a> | <a href=\"https://databricks.com/terms-of-use\">Terms of Use</a> | <a href=\"https://help.databricks.com/\">Support</a>"
   ]
  }
 ],
 "metadata": {
  "application/vnd.databricks.v1+notebook": {
   "dashboards": [],
   "environmentMetadata": null,
   "language": "python",
   "notebookMetadata": {
    "pythonIndentUnit": 2
   },
   "notebookName": "LLM 01L - Transformer Architecture Lab",
   "widgets": {}
  }
 },
 "nbformat": 4,
 "nbformat_minor": 0
}
