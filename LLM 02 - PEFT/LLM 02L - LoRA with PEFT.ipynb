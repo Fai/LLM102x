{
 "cells": [
  {
   "cell_type": "markdown",
   "metadata": {
    "application/vnd.databricks.v1+cell": {
     "cellMetadata": {},
     "inputWidgets": {},
     "nuid": "87482f99-0b05-41f2-ab65-7503e22dc0fc",
     "showTitle": false,
     "title": ""
    }
   },
   "source": [
    "\n",
    "<div style=\"text-align: center; line-height: 0; padding-top: 9px;\">\n",
    "  <img src=\"https://databricks.com/wp-content/uploads/2018/03/db-academy-rgb-1200px.png\" alt=\"Databricks Learning\" style=\"width: 600px\">\n",
    "</div>"
   ]
  },
  {
   "cell_type": "markdown",
   "metadata": {
    "application/vnd.databricks.v1+cell": {
     "cellMetadata": {},
     "inputWidgets": {},
     "nuid": "3b9ba9df-5a9b-4020-a131-5db37c8f9922",
     "showTitle": false,
     "title": ""
    }
   },
   "source": [
    "\n",
    "# Low-Rank Adaption (LoRA)\n",
    "This lab introduces how to apply low-rank adaptation (LoRA) to your model of choice using [Parameter-Efficient Fine-Tuning (PEFT) library developed by Hugging Face](https://huggingface.co/docs/peft/index). \n",
    "\n",
    "\n",
    "### ![Dolly](https://files.training.databricks.com/images/llm/dolly_small.png) Learning Objectives\n",
    "1. Apply LoRA to a model\n",
    "1. Fine-tune on your provided dataset\n",
    "1. Save your model\n",
    "1. Conduct inference using the fine-tuned model"
   ]
  },
  {
   "cell_type": "code",
   "execution_count": 0,
   "metadata": {
    "application/vnd.databricks.v1+cell": {
     "cellMetadata": {
      "byteLimit": 2048000,
      "rowLimit": 10000
     },
     "inputWidgets": {},
     "nuid": "63fc1c67-e848-41c4-bf6d-45edaf54a99a",
     "showTitle": false,
     "title": ""
    }
   },
   "outputs": [
    {
     "output_type": "stream",
     "name": "stdout",
     "output_type": "stream",
     "text": [
      "\u001B[43mNote: you may need to restart the kernel using dbutils.library.restartPython() to use updated packages.\u001B[0m\nCollecting peft==0.4.0\n  Downloading peft-0.4.0-py3-none-any.whl (72 kB)\n     ━━━━━━━━━━━━━━━━━━━━━━━━━━━━━━━━━━━━━━━━ 72.9/72.9 kB 2.1 MB/s eta 0:00:00\nRequirement already satisfied: safetensors in /databricks/python3/lib/python3.10/site-packages (from peft==0.4.0) (0.3.2)\nRequirement already satisfied: pyyaml in /databricks/python3/lib/python3.10/site-packages (from peft==0.4.0) (6.0)\nRequirement already satisfied: accelerate in /databricks/python3/lib/python3.10/site-packages (from peft==0.4.0) (0.20.3)\nRequirement already satisfied: psutil in /databricks/python3/lib/python3.10/site-packages (from peft==0.4.0) (5.9.0)\nRequirement already satisfied: torch>=1.13.0 in /databricks/python3/lib/python3.10/site-packages (from peft==0.4.0) (1.13.1+cpu)\nRequirement already satisfied: numpy>=1.17 in /databricks/python3/lib/python3.10/site-packages (from peft==0.4.0) (1.21.5)\nRequirement already satisfied: packaging>=20.0 in /databricks/python3/lib/python3.10/site-packages (from peft==0.4.0) (21.3)\nRequirement already satisfied: transformers in /databricks/python3/lib/python3.10/site-packages (from peft==0.4.0) (4.30.2)\nRequirement already satisfied: pyparsing!=3.0.5,>=2.0.2 in /databricks/python3/lib/python3.10/site-packages (from packaging>=20.0->peft==0.4.0) (3.0.9)\nRequirement already satisfied: typing-extensions in /databricks/python3/lib/python3.10/site-packages (from torch>=1.13.0->peft==0.4.0) (4.3.0)\nRequirement already satisfied: requests in /databricks/python3/lib/python3.10/site-packages (from transformers->peft==0.4.0) (2.28.1)\nRequirement already satisfied: tokenizers!=0.11.3,<0.14,>=0.11.1 in /databricks/python3/lib/python3.10/site-packages (from transformers->peft==0.4.0) (0.13.3)\nRequirement already satisfied: filelock in /databricks/python3/lib/python3.10/site-packages (from transformers->peft==0.4.0) (3.6.0)\nRequirement already satisfied: huggingface-hub<1.0,>=0.14.1 in /databricks/python3/lib/python3.10/site-packages (from transformers->peft==0.4.0) (0.16.4)\nRequirement already satisfied: tqdm>=4.27 in /databricks/python3/lib/python3.10/site-packages (from transformers->peft==0.4.0) (4.64.1)\nRequirement already satisfied: regex!=2019.12.17 in /databricks/python3/lib/python3.10/site-packages (from transformers->peft==0.4.0) (2022.7.9)\nRequirement already satisfied: fsspec in /databricks/python3/lib/python3.10/site-packages (from huggingface-hub<1.0,>=0.14.1->transformers->peft==0.4.0) (2022.7.1)\nRequirement already satisfied: charset-normalizer<3,>=2 in /databricks/python3/lib/python3.10/site-packages (from requests->transformers->peft==0.4.0) (2.0.4)\nRequirement already satisfied: urllib3<1.27,>=1.21.1 in /databricks/python3/lib/python3.10/site-packages (from requests->transformers->peft==0.4.0) (1.26.11)\nRequirement already satisfied: certifi>=2017.4.17 in /databricks/python3/lib/python3.10/site-packages (from requests->transformers->peft==0.4.0) (2022.9.14)\nRequirement already satisfied: idna<4,>=2.5 in /databricks/python3/lib/python3.10/site-packages (from requests->transformers->peft==0.4.0) (3.3)\nInstalling collected packages: peft\nSuccessfully installed peft-0.4.0\n\u001B[43mNote: you may need to restart the kernel using dbutils.library.restartPython() to use updated packages.\u001B[0m\n"
     ]
    }
   ],
   "source": [
    "%pip install peft==0.4.0"
   ]
  },
  {
   "cell_type": "code",
   "execution_count": 0,
   "metadata": {
    "application/vnd.databricks.v1+cell": {
     "cellMetadata": {
      "byteLimit": 2048000,
      "rowLimit": 10000
     },
     "inputWidgets": {},
     "nuid": "eda23989-89cc-4bf1-8f2c-08614536e71d",
     "showTitle": false,
     "title": ""
    }
   },
   "outputs": [
    {
     "output_type": "stream",
     "name": "stdout",
     "output_type": "stream",
     "text": [
      "\u001B[43mNote: you may need to restart the kernel using dbutils.library.restartPython() to use updated packages.\u001B[0m\n\u001B[43mNote: you may need to restart the kernel using dbutils.library.restartPython() to use updated packages.\u001B[0m\n"
     ]
    },
    {
     "output_type": "stream",
     "name": "stdout",
     "output_type": "stream",
     "text": [
      "Resetting the learning environment:\n| enumerating serving endpoints...found 7...(0 seconds)\n| No action taken\n\nSkipping install of existing datasets to \"dbfs:/mnt/dbacademy-datasets/llm-foundation-models/v01-raw\"\n\nValidating the locally installed datasets:\n| listing local files...(4 seconds)\n| removing extra path: /datasets/Abirate___json/Abirate--english_quotes-6e72855d06356857/0.0.0/8bb11242116d547c741b2e8a1f18598ffdd40a1d4f2a2872c7a28b697434bc96/...(0 seconds)\n| removing extra path: /datasets/downloads/...(0 seconds)\n| removing extra file: /datasets/Abirate___json/Abirate--english_quotes-6e72855d06356857/0.0.0/8bb11242116d547c741b2e8a1f18598ffdd40a1d4f2a2872c7a28b697434bc96.incomplete_info.lock...(0 seconds)\n| removing extra file: /datasets/Abirate___json/Abirate--english_quotes-6e72855d06356857/0.0.0/8bb11242116d547c741b2e8a1f18598ffdd40a1d4f2a2872c7a28b697434bc96_builder.lock...(0 seconds)\n| removing extra file: /datasets/_dbfs_mnt_dbacademy-datasets_llm-foundation-models_v01-raw_datasets_Abirate___json_Abirate--english_quotes-6e72855d06356857_0.0.0_8bb11242116d547c741b2e8a1f18598ffdd40a1d4f2a2872c7a28b697434bc96.lock...(0 seconds)\n| removing extra file: /datasets/_local_disk0_datasets_Abirate___json_Abirate--english_quotes-6e72855d06356857_0.0.0_8bb11242116d547c741b2e8a1f18598ffdd40a1d4f2a2872c7a28b697434bc96.lock...(0 seconds)\n| fixed 6 issues...(4 seconds total)\n"
     ]
    },
    {
     "output_type": "stream",
     "name": "stdout",
     "output_type": "stream",
     "text": [
      "Importing lab testing framework.\n"
     ]
    },
    {
     "output_type": "stream",
     "name": "stdout",
     "output_type": "stream",
     "text": [
      "\nUsing the \"default\" schema.\n\nPredefined paths variables:\n| DA.paths.working_dir: /dbfs/mnt/dbacademy-users/labuser5958453@vocareum.com/llm-foundation-models\n| DA.paths.user_db:     dbfs:/mnt/dbacademy-users/labuser5958453@vocareum.com/llm-foundation-models/database.db\n| DA.paths.datasets:    /dbfs/mnt/dbacademy-datasets/llm-foundation-models/v01-raw\n\nSetup completed (17 seconds)\n\nThe models developed or used in this course are for demonstration and learning purposes only.\nModels may occasionally output offensive, inaccurate, biased information, or harmful instructions.\n"
     ]
    }
   ],
   "source": [
    "%run ../Includes/Classroom-Setup"
   ]
  },
  {
   "cell_type": "markdown",
   "metadata": {
    "application/vnd.databricks.v1+cell": {
     "cellMetadata": {},
     "inputWidgets": {},
     "nuid": "37afc2ff-ce1c-424e-a024-70bf364bf3ab",
     "showTitle": false,
     "title": ""
    }
   },
   "source": [
    "We will re-use the same dataset and model from the demo notebook. "
   ]
  },
  {
   "cell_type": "code",
   "execution_count": 0,
   "metadata": {
    "application/vnd.databricks.v1+cell": {
     "cellMetadata": {
      "byteLimit": 2048000,
      "rowLimit": 10000
     },
     "inputWidgets": {},
     "nuid": "6a5178b5-06f9-4ae4-94b6-689fa00b5681",
     "showTitle": false,
     "title": ""
    }
   },
   "outputs": [
    {
     "output_type": "display_data",
     "data": {
      "application/vnd.jupyter.widget-view+json": {
       "model_id": "1173301a8c524c43bb45fd88ef2e24a7",
       "version_major": 2,
       "version_minor": 0
      },
      "text/plain": [
       "Downloading tokenizer_config.json:   0%|          | 0.00/222 [00:00<?, ?B/s]"
      ]
     },
     "metadata": {},
     "output_type": "display_data"
    },
    {
     "output_type": "display_data",
     "data": {
      "application/vnd.jupyter.widget-view+json": {
       "model_id": "71e260b46dfe4781a174bc6b03a6235c",
       "version_major": 2,
       "version_minor": 0
      },
      "text/plain": [
       "Downloading tokenizer.json:   0%|          | 0.00/14.5M [00:00<?, ?B/s]"
      ]
     },
     "metadata": {},
     "output_type": "display_data"
    },
    {
     "output_type": "display_data",
     "data": {
      "application/vnd.jupyter.widget-view+json": {
       "model_id": "b2654a01a4184da6961dda6329b70e84",
       "version_major": 2,
       "version_minor": 0
      },
      "text/plain": [
       "Downloading (…)cial_tokens_map.json:   0%|          | 0.00/85.0 [00:00<?, ?B/s]"
      ]
     },
     "metadata": {},
     "output_type": "display_data"
    },
    {
     "output_type": "display_data",
     "data": {
      "application/vnd.jupyter.widget-view+json": {
       "model_id": "a88d1acd89924c3e92d286280f4d5aa1",
       "version_major": 2,
       "version_minor": 0
      },
      "text/plain": [
       "Downloading config.json:   0%|          | 0.00/715 [00:00<?, ?B/s]"
      ]
     },
     "metadata": {},
     "output_type": "display_data"
    },
    {
     "output_type": "display_data",
     "data": {
      "application/vnd.jupyter.widget-view+json": {
       "model_id": "e1af0d8a50cf4c8aa438245aedd94268",
       "version_major": 2,
       "version_minor": 0
      },
      "text/plain": [
       "Downloading model.safetensors:   0%|          | 0.00/1.12G [00:00<?, ?B/s]"
      ]
     },
     "metadata": {},
     "output_type": "display_data"
    },
    {
     "output_type": "stream",
     "name": "stderr",
     "output_type": "stream",
     "text": [
      "/databricks/python_shell/dbruntime/huggingface_patches/datasets.py:13: UserWarning: During large dataset downloads, there could be multiple progress bar widgets that can cause performance issues for your notebook or browser. To avoid these issues, use `datasets.utils.logging.disable_progress_bar()` to turn off the progress bars.\n  warnings.warn(\n"
     ]
    },
    {
     "output_type": "display_data",
     "data": {
      "application/vnd.jupyter.widget-view+json": {
       "model_id": "17c71b856f864d35a593cd6ba8e8acb9",
       "version_major": 2,
       "version_minor": 0
      },
      "text/plain": [
       "Downloading readme:   0%|          | 0.00/5.55k [00:00<?, ?B/s]"
      ]
     },
     "metadata": {},
     "output_type": "display_data"
    },
    {
     "output_type": "stream",
     "name": "stderr",
     "output_type": "stream",
     "text": [
      "/databricks/python_shell/dbruntime/huggingface_patches/datasets.py:109: UserWarning: The dataset would be saved to both local disk and DBFS for better performance.\n  warnings.warn(\"The dataset would be saved to both local disk and DBFS for better performance.\")\n"
     ]
    },
    {
     "output_type": "stream",
     "name": "stdout",
     "output_type": "stream",
     "text": [
      "Downloading and preparing dataset json/Abirate--english_quotes to /local_disk0/datasets/Abirate___json/Abirate--english_quotes-6e72855d06356857/0.0.0/8bb11242116d547c741b2e8a1f18598ffdd40a1d4f2a2872c7a28b697434bc96...\n"
     ]
    },
    {
     "output_type": "display_data",
     "data": {
      "application/vnd.jupyter.widget-view+json": {
       "model_id": "a95db3abd7284fcca7a2fdbf5fa36741",
       "version_major": 2,
       "version_minor": 0
      },
      "text/plain": [
       "Downloading data files:   0%|          | 0/1 [00:00<?, ?it/s]"
      ]
     },
     "metadata": {},
     "output_type": "display_data"
    },
    {
     "output_type": "display_data",
     "data": {
      "application/vnd.jupyter.widget-view+json": {
       "model_id": "d83cc7a6d81545a48343c3f67a8f29c9",
       "version_major": 2,
       "version_minor": 0
      },
      "text/plain": [
       "Downloading data:   0%|          | 0.00/647k [00:00<?, ?B/s]"
      ]
     },
     "metadata": {},
     "output_type": "display_data"
    },
    {
     "output_type": "display_data",
     "data": {
      "application/vnd.jupyter.widget-view+json": {
       "model_id": "d0ecc67bfdce41ddb73ed8eaef7b72bd",
       "version_major": 2,
       "version_minor": 0
      },
      "text/plain": [
       "Extracting data files:   0%|          | 0/1 [00:00<?, ?it/s]"
      ]
     },
     "metadata": {},
     "output_type": "display_data"
    },
    {
     "output_type": "display_data",
     "data": {
      "application/vnd.jupyter.widget-view+json": {
       "model_id": "5e3a78f7b4b94be3bcb5098d3d48c59d",
       "version_major": 2,
       "version_minor": 0
      },
      "text/plain": [
       "Generating train split: 0 examples [00:00, ? examples/s]"
      ]
     },
     "metadata": {},
     "output_type": "display_data"
    },
    {
     "output_type": "stream",
     "name": "stdout",
     "output_type": "stream",
     "text": [
      "Dataset json downloaded and prepared to /local_disk0/datasets/Abirate___json/Abirate--english_quotes-6e72855d06356857/0.0.0/8bb11242116d547c741b2e8a1f18598ffdd40a1d4f2a2872c7a28b697434bc96. Subsequent calls will reuse this data.\n"
     ]
    },
    {
     "output_type": "display_data",
     "data": {
      "application/vnd.jupyter.widget-view+json": {
       "model_id": "e6bb60819a3e469f873d5a702014a1ce",
       "version_major": 2,
       "version_minor": 0
      },
      "text/plain": [
       "  0%|          | 0/1 [00:00<?, ?it/s]"
      ]
     },
     "metadata": {},
     "output_type": "display_data"
    },
    {
     "output_type": "display_data",
     "data": {
      "application/vnd.jupyter.widget-view+json": {
       "model_id": "b08a2db2c9b14fdf89f13ba3ba546cb5",
       "version_major": 2,
       "version_minor": 0
      },
      "text/plain": [
       "Map:   0%|          | 0/2508 [00:00<?, ? examples/s]"
      ]
     },
     "metadata": {},
     "output_type": "display_data"
    },
    {
     "output_type": "display_data",
     "data": {
      "text/plain": [
       "Dataset({\n",
       "    features: ['quote', 'author', 'tags', 'input_ids', 'attention_mask'],\n",
       "    num_rows: 50\n",
       "})"
      ]
     },
     "metadata": {},
     "output_type": "display_data"
    }
   ],
   "source": [
    "from datasets import load_dataset\n",
    "from transformers import AutoModelForCausalLM, AutoTokenizer\n",
    "\n",
    "model_name = \"bigscience/bloomz-560m\"\n",
    "tokenizer = AutoTokenizer.from_pretrained(model_name)\n",
    "foundation_model = AutoModelForCausalLM.from_pretrained(model_name)\n",
    "\n",
    "data = load_dataset(\"Abirate/english_quotes\", cache_dir=DA.paths.datasets+\"/datasets\")\n",
    "data = data.map(lambda samples: tokenizer(samples[\"quote\"]), batched=True)\n",
    "train_sample = data[\"train\"].select(range(50))\n",
    "display(train_sample) "
   ]
  },
  {
   "cell_type": "markdown",
   "metadata": {
    "application/vnd.databricks.v1+cell": {
     "cellMetadata": {},
     "inputWidgets": {},
     "nuid": "e430e4b8-33a3-4a84-a650-64ec1264825e",
     "showTitle": false,
     "title": ""
    }
   },
   "source": [
    "## Define LoRA configurations\n",
    "\n",
    "By using LoRA, you are unfreezing the attention `Weight_delta` matrix and only updating `W_a` and `W_b`. \n",
    "\n",
    "<img src=\"https://files.training.databricks.com/images/llm/lora.png\" width=300>\n",
    "\n",
    "You can treat `r` (rank) as a hyperparameter. Recall from the lecture that, LoRA can perform well with very small ranks based on [Hu et a 2021's paper](https://arxiv.org/abs/2106.09685). GPT-3's validation accuracies across tasks with ranks from 1 to 64 are quite similar. From [PyTorch Lightning's documentation](https://lightning.ai/pages/community/article/lora-llm/):\n",
    "\n",
    "> A smaller r leads to a simpler low-rank matrix, which results in fewer parameters to learn during adaptation. This can lead to faster training and potentially reduced computational requirements. However, with a smaller r, the capacity of the low-rank matrix to capture task-specific information decreases. This may result in lower adaptation quality, and the model might not perform as well on the new task compared to a higher r.\n",
    "\n",
    "Other arguments:\n",
    "- `lora_dropout`: \n",
    "  - Dropout is a regularization method that reduces overfitting by randomly and temporarily removing nodes during training. \n",
    "  - It works like this: <br>\n",
    "    * Apply to most type of layers (e.g. fully connected, convolutional, recurrent) and larger networks\n",
    "    * Temporarily and randomly remove nodes and their connections during each training cycle\n",
    "    ![](https://files.training.databricks.com/images/nn_dropout.png)\n",
    "    * See the original paper here: <a href=\"http://jmlr.org/papers/volume15/srivastava14a/srivastava14a.pdf\" target=\"_blank\">Dropout: A Simple Way to Prevent Neural Networks from Overfitting</a>\n",
    "- `target_modules`:\n",
    "  - Specifies the module names to apply to \n",
    "  - This is dependent on how the foundation model names its attention weight matrices. \n",
    "  - Typically, this can be:\n",
    "    - `query`, `q`, `q_proj` \n",
    "    - `key`, `k`, `k_proj` \n",
    "    - `value`, `v` , `v_proj` \n",
    "    - `query_key_value` \n",
    "  - The easiest way to inspect the module/layer names is to print the model, like we are doing below."
   ]
  },
  {
   "cell_type": "markdown",
   "metadata": {
    "application/vnd.databricks.v1+cell": {
     "cellMetadata": {},
     "inputWidgets": {},
     "nuid": "e406a354-4671-4ad0-bf7b-aa1899171665",
     "showTitle": false,
     "title": ""
    }
   },
   "source": [
    "### Question 1\n",
    "\n",
    "Fill in `r=1` and `target_modules`. \n",
    "\n",
    "Note:\n",
    "- For `r`, any number is valid. The smaller the r is, the fewer parameters there are to update during the fine-tuning process.\n",
    "\n",
    "Hint: \n",
    "- For `target_modules`, what's the name of the **first** module within each `BloomBlock`'s `self_attention`? \n",
    "\n",
    "Read more about [`LoraConfig` here](https://huggingface.co/docs/peft/conceptual_guides/lora#common-lora-parameters-in-peft)."
   ]
  },
  {
   "cell_type": "code",
   "execution_count": 0,
   "metadata": {
    "application/vnd.databricks.v1+cell": {
     "cellMetadata": {
      "byteLimit": 2048000,
      "rowLimit": 10000
     },
     "inputWidgets": {},
     "nuid": "0984c8a5-4c16-4ac3-a596-24ff056f3865",
     "showTitle": false,
     "title": ""
    }
   },
   "outputs": [],
   "source": [
    "# TODO\n",
    "import peft\n",
    "from peft import LoraConfig, get_peft_model\n",
    "\n",
    "lora_config = LoraConfig(\n",
    "    r=1,\n",
    "    lora_alpha=1, # a scaling factor that adjusts the magnitude of the weight matrix. Usually set to 1\n",
    "    target_modules=[\"query_key_value\"],\n",
    "    lora_dropout=0.05, \n",
    "    bias=\"none\", # this specifies if the bias parameter should be trained. \n",
    "    task_type=\"CAUSAL_LM\"\n",
    ")"
   ]
  },
  {
   "cell_type": "code",
   "execution_count": 0,
   "metadata": {
    "application/vnd.databricks.v1+cell": {
     "cellMetadata": {
      "byteLimit": 2048000,
      "rowLimit": 10000
     },
     "inputWidgets": {},
     "nuid": "5aa3d83e-5f38-4375-8235-a4eae322aea5",
     "showTitle": false,
     "title": ""
    }
   },
   "outputs": [
    {
     "output_type": "stream",
     "name": "stdout",
     "output_type": "stream",
     "text": [
      "\u001B[32mPASSED\u001B[0m: All tests passed for lesson2, question1\n\u001B[32mRESULTS RECORDED\u001B[0m: Click `Submit` when all questions are completed to log the results.\n"
     ]
    }
   ],
   "source": [
    "# Test your answer. DO NOT MODIFY THIS CELL.\n",
    "\n",
    "dbTestQuestion2_1(lora_config.r, lora_config.target_modules)"
   ]
  },
  {
   "cell_type": "markdown",
   "metadata": {
    "application/vnd.databricks.v1+cell": {
     "cellMetadata": {},
     "inputWidgets": {},
     "nuid": "852b603f-8022-47cf-a245-71a3238945c8",
     "showTitle": false,
     "title": ""
    }
   },
   "source": [
    "###  Question 2\n",
    "\n",
    "Add the adapter layers to the foundation model to be trained"
   ]
  },
  {
   "cell_type": "code",
   "execution_count": 0,
   "metadata": {
    "application/vnd.databricks.v1+cell": {
     "cellMetadata": {
      "byteLimit": 2048000,
      "rowLimit": 10000
     },
     "inputWidgets": {},
     "nuid": "c0ffec16-5c57-403e-a8e3-08b5529df394",
     "showTitle": false,
     "title": ""
    }
   },
   "outputs": [
    {
     "output_type": "stream",
     "name": "stdout",
     "output_type": "stream",
     "text": [
      "Help on function get_peft_model in module peft.mapping:\n\nget_peft_model(model: 'PreTrainedModel', peft_config: 'PeftConfig', adapter_name: 'str' = 'default') -> 'PeftModel'\n    Returns a Peft model object from a model and a config.\n    \n    Args:\n        model ([`transformers.PreTrainedModel`]): Model to be wrapped.\n        peft_config ([`PeftConfig`]): Configuration object containing the parameters of the Peft model.\n\n"
     ]
    }
   ],
   "source": [
    "help(get_peft_model)"
   ]
  },
  {
   "cell_type": "code",
   "execution_count": 0,
   "metadata": {
    "application/vnd.databricks.v1+cell": {
     "cellMetadata": {
      "byteLimit": 2048000,
      "rowLimit": 10000
     },
     "inputWidgets": {},
     "nuid": "391dc53f-56ee-44be-ba9a-aef8f87977ec",
     "showTitle": false,
     "title": ""
    }
   },
   "outputs": [
    {
     "output_type": "stream",
     "name": "stdout",
     "output_type": "stream",
     "text": [
      "trainable params: 98,304 || all params: 559,312,896 || trainable%: 0.01757585078102687\nNone\n"
     ]
    }
   ],
   "source": [
    "# TODO\n",
    "peft_model = get_peft_model(foundation_model, lora_config)\n",
    "print(peft_model.print_trainable_parameters())"
   ]
  },
  {
   "cell_type": "code",
   "execution_count": 0,
   "metadata": {
    "application/vnd.databricks.v1+cell": {
     "cellMetadata": {
      "byteLimit": 2048000,
      "rowLimit": 10000
     },
     "inputWidgets": {},
     "nuid": "2e4eb585-ebc2-4c01-8b30-0cfcadd64e13",
     "showTitle": false,
     "title": ""
    }
   },
   "outputs": [
    {
     "output_type": "stream",
     "name": "stdout",
     "output_type": "stream",
     "text": [
      "\u001B[32mPASSED\u001B[0m: All tests passed for lesson2, question2\n\u001B[32mRESULTS RECORDED\u001B[0m: Click `Submit` when all questions are completed to log the results.\n"
     ]
    }
   ],
   "source": [
    "# Test your answer. DO NOT MODIFY THIS CELL.\n",
    "\n",
    "dbTestQuestion2_2(peft_model)"
   ]
  },
  {
   "cell_type": "markdown",
   "metadata": {
    "application/vnd.databricks.v1+cell": {
     "cellMetadata": {},
     "inputWidgets": {},
     "nuid": "6212cab1-763f-4ad9-abfe-5cee34a99ed1",
     "showTitle": false,
     "title": ""
    }
   },
   "source": [
    "## Define `Trainer` class for fine-tuning"
   ]
  },
  {
   "cell_type": "markdown",
   "metadata": {
    "application/vnd.databricks.v1+cell": {
     "cellMetadata": {},
     "inputWidgets": {},
     "nuid": "6e4083a0-8c0d-4652-9946-a40ea817ed16",
     "showTitle": false,
     "title": ""
    }
   },
   "source": [
    "### Question 3 \n",
    "\n",
    "Fill out the `Trainer` class. Feel free to tweak the `training_args` we provided, but remember that lowering the learning rate and increasing the number of epochs will increase training time significantly. If you change none of the defaults we set below, it could take ~15 mins to fine-tune."
   ]
  },
  {
   "cell_type": "code",
   "execution_count": 0,
   "metadata": {
    "application/vnd.databricks.v1+cell": {
     "cellMetadata": {
      "byteLimit": 2048000,
      "rowLimit": 10000
     },
     "inputWidgets": {},
     "nuid": "b25fabc1-21d6-44c9-97fb-50879cdd21cf",
     "showTitle": false,
     "title": ""
    }
   },
   "outputs": [
    {
     "output_type": "stream",
     "name": "stderr",
     "output_type": "stream",
     "text": [
      "2024/05/24 10:14:17 INFO mlflow.tracking.fluent: Experiment with name '/Users/labuser5958453@vocareum.com/LLM 02L - LoRA with PEFT' does not exist. Creating a new experiment.\n/databricks/python/lib/python3.10/site-packages/transformers/optimization.py:411: FutureWarning: This implementation of AdamW is deprecated and will be removed in a future version. Use the PyTorch implementation torch.optim.AdamW instead, or set `no_deprecation_warning=True` to disable this warning\n  warnings.warn(\nYou're using a BloomTokenizerFast tokenizer. Please note that with a fast tokenizer, using the `__call__` method is faster than using a method to encode the text followed by a call to the `pad` method to get a padded encoding.\n"
     ]
    },
    {
     "output_type": "display_data",
     "data": {
      "text/html": [
       "\n",
       "    <div>\n",
       "      \n",
       "      <progress value='35' max='35' style='width:300px; height:20px; vertical-align: middle;'></progress>\n",
       "      [35/35 18:08, Epoch 5/5]\n",
       "    </div>\n",
       "    <table border=\"1\" class=\"dataframe\">\n",
       "  <thead>\n",
       " <tr style=\"text-align: left;\">\n",
       "      <th>Step</th>\n",
       "      <th>Training Loss</th>\n",
       "    </tr>\n",
       "  </thead>\n",
       "  <tbody>\n",
       "  </tbody>\n",
       "</table><p>"
      ],
      "text/plain": [
       "<IPython.core.display.HTML object>"
      ]
     },
     "metadata": {},
     "output_type": "display_data"
    },
    {
     "output_type": "execute_result",
     "data": {
      "text/plain": [
       "TrainOutput(global_step=35, training_loss=7.041696166992187, metrics={'train_runtime': 1094.9289, 'train_samples_per_second': 0.228, 'train_steps_per_second': 0.032, 'total_flos': 58346118414336.0, 'train_loss': 7.041696166992187, 'epoch': 5.0})"
      ]
     },
     "execution_count": 30,
     "metadata": {},
     "output_type": "execute_result"
    }
   ],
   "source": [
    "# TODO\n",
    "import transformers\n",
    "from transformers import TrainingArguments, Trainer\n",
    "import os\n",
    "import mlflow\n",
    "\n",
    "# Tell MLflow Tracking to use this explicit experiment path,\n",
    "# which is located on the left hand sidebar under Machine Learning -> Experiments \n",
    "mlflow.set_experiment(f\"/Users/{DA.username}/LLM 02L - LoRA with PEFT\")\n",
    "\n",
    "output_directory = os.path.join(DA.paths.working_dir, \"peft_lab_outputs\")\n",
    "training_args = TrainingArguments(\n",
    "    output_dir=output_directory,\n",
    "    auto_find_batch_size=True,\n",
    "    learning_rate= 3e-2, # Higher learning rate than full fine-tuning.\n",
    "    num_train_epochs=5,\n",
    "    no_cuda=True\n",
    ")\n",
    "\n",
    "trainer = Trainer(\n",
    "    model=peft_model,\n",
    "    args=training_args,\n",
    "    train_dataset=train_sample,\n",
    "    data_collator=transformers.DataCollatorForLanguageModeling(tokenizer, mlm=False)\n",
    ")\n",
    "trainer.train()"
   ]
  },
  {
   "cell_type": "code",
   "execution_count": 0,
   "metadata": {
    "application/vnd.databricks.v1+cell": {
     "cellMetadata": {
      "byteLimit": 2048000,
      "rowLimit": 10000
     },
     "inputWidgets": {},
     "nuid": "563ba473-ec2b-4323-b55a-5ae9fd63f579",
     "showTitle": false,
     "title": ""
    }
   },
   "outputs": [
    {
     "output_type": "stream",
     "name": "stdout",
     "output_type": "stream",
     "text": [
      "\u001B[32mPASSED\u001B[0m: All tests passed for lesson2, question3\n\u001B[32mRESULTS RECORDED\u001B[0m: Click `Submit` when all questions are completed to log the results.\n"
     ]
    }
   ],
   "source": [
    "# Test your answer. DO NOT MODIFY THIS CELL.\n",
    "\n",
    "dbTestQuestion2_3(trainer)"
   ]
  },
  {
   "cell_type": "markdown",
   "metadata": {
    "application/vnd.databricks.v1+cell": {
     "cellMetadata": {},
     "inputWidgets": {},
     "nuid": "d29d98c5-6939-446a-bfeb-a751d10cddf6",
     "showTitle": false,
     "title": ""
    }
   },
   "source": [
    "## Load model"
   ]
  },
  {
   "cell_type": "markdown",
   "metadata": {
    "application/vnd.databricks.v1+cell": {
     "cellMetadata": {},
     "inputWidgets": {},
     "nuid": "5eb57ec7-7646-412f-938f-e014c315599f",
     "showTitle": false,
     "title": ""
    }
   },
   "source": [
    "### Question 4 \n",
    "\n",
    "Load the PEFT model using pre-defined LoRA configs and foundation model. We set `is_trainable=False` to avoid further training."
   ]
  },
  {
   "cell_type": "code",
   "execution_count": 0,
   "metadata": {
    "application/vnd.databricks.v1+cell": {
     "cellMetadata": {
      "byteLimit": 2048000,
      "rowLimit": 10000
     },
     "inputWidgets": {},
     "nuid": "64ddfcf6-a47c-4f9c-8da9-9f826b89e806",
     "showTitle": false,
     "title": ""
    }
   },
   "outputs": [],
   "source": [
    "import time\n",
    "\n",
    "time_now = time.time()\n",
    "\n",
    "username = spark.sql(\"SELECT CURRENT_USER\").first()[0]\n",
    "peft_model_path = os.path.join(output_directory, f\"peft_model_{time_now}\")\n",
    "trainer.model.save_pretrained(peft_model_path)"
   ]
  },
  {
   "cell_type": "code",
   "execution_count": 0,
   "metadata": {
    "application/vnd.databricks.v1+cell": {
     "cellMetadata": {
      "byteLimit": 2048000,
      "rowLimit": 10000
     },
     "inputWidgets": {},
     "nuid": "1fb9aec2-8bc7-4d2c-84e9-fb470f70405c",
     "showTitle": false,
     "title": ""
    }
   },
   "outputs": [],
   "source": [
    "# TODO\n",
    "from peft import PeftModel, PeftConfig\n",
    "\n",
    "loaded_model = PeftModel.from_pretrained(peft_model_path,\n",
    "                                         model_id=model_id,\n",
    "                                         is_trainable=False)"
   ]
  },
  {
   "cell_type": "code",
   "execution_count": 0,
   "metadata": {
    "application/vnd.databricks.v1+cell": {
     "cellMetadata": {
      "byteLimit": 2048000,
      "rowLimit": 10000
     },
     "inputWidgets": {},
     "nuid": "998f769e-7ad8-45c0-bea7-477296965cb0",
     "showTitle": false,
     "title": ""
    }
   },
   "outputs": [
    {
     "output_type": "stream",
     "name": "stdout",
     "output_type": "stream",
     "text": [
      "Help on class PeftConfig in module peft.utils.config:\n\nclass PeftConfig(PeftConfigMixin)\n |  PeftConfig(peft_type: Union[str, peft.utils.config.PeftType] = None, auto_mapping: Optional[dict] = None, base_model_name_or_path: str = None, revision: str = None, task_type: Union[str, peft.utils.config.TaskType] = None, inference_mode: bool = False) -> None\n |  \n |  This is the base configuration class to store the configuration of a [`PeftModel`].\n |  \n |  Args:\n |      peft_type (Union[[`~peft.utils.config.PeftType`], `str`]): The type of Peft method to use.\n |      task_type (Union[[`~peft.utils.config.TaskType`], `str`]): The type of task to perform.\n |      inference_mode (`bool`, defaults to `False`): Whether to use the Peft model in inference mode.\n |  \n |  Method resolution order:\n |      PeftConfig\n |      PeftConfigMixin\n |      transformers.utils.hub.PushToHubMixin\n |      builtins.object\n |  \n |  Methods defined here:\n |  \n |  __eq__(self, other)\n |      Return self==value.\n |  \n |  __init__(self, peft_type: Union[str, peft.utils.config.PeftType] = None, auto_mapping: Optional[dict] = None, base_model_name_or_path: str = None, revision: str = None, task_type: Union[str, peft.utils.config.TaskType] = None, inference_mode: bool = False) -> None\n |      Initialize self.  See help(type(self)) for accurate signature.\n |  \n |  __repr__(self)\n |      Return repr(self).\n |  \n |  ----------------------------------------------------------------------\n |  Data and other attributes defined here:\n |  \n |  __annotations__ = {'base_model_name_or_path': <class 'str'>, 'inferenc...\n |  \n |  __dataclass_fields__ = {'auto_mapping': Field(name='auto_mapping',type...\n |  \n |  __dataclass_params__ = _DataclassParams(init=True,repr=True,eq=True,or...\n |  \n |  __hash__ = None\n |  \n |  __match_args__ = ('peft_type', 'auto_mapping', 'base_model_name_or_pat...\n |  \n |  base_model_name_or_path = None\n |  \n |  inference_mode = False\n |  \n |  peft_type = None\n |  \n |  revision = None\n |  \n |  task_type = None\n |  \n |  ----------------------------------------------------------------------\n |  Methods inherited from PeftConfigMixin:\n |  \n |  save_pretrained(self, save_directory, **kwargs)\n |      This method saves the configuration of your adapter model in a directory.\n |      \n |      Args:\n |          save_directory (`str`):\n |              The directory where the configuration will be saved.\n |          kwargs (additional keyword arguments, *optional*):\n |              Additional keyword arguments passed along to the [`~transformers.utils.PushToHubMixin.push_to_hub`]\n |              method.\n |  \n |  to_dict(self)\n |  \n |  ----------------------------------------------------------------------\n |  Class methods inherited from PeftConfigMixin:\n |  \n |  from_json_file(path_json_file, **kwargs) from builtins.type\n |      Loads a configuration file from a json file.\n |      \n |      Args:\n |          path_json_file (`str`):\n |              The path to the json file.\n |  \n |  from_pretrained(pretrained_model_name_or_path, subfolder=None, **kwargs) from builtins.type\n |      This method loads the configuration of your adapter model from a directory.\n |      \n |      Args:\n |          pretrained_model_name_or_path (`str`):\n |              The directory or the Hub repository id where the configuration is saved.\n |          kwargs (additional keyword arguments, *optional*):\n |              Additional keyword arguments passed along to the child class initialization.\n |  \n |  ----------------------------------------------------------------------\n |  Data and other attributes inherited from PeftConfigMixin:\n |  \n |  auto_mapping = None\n |  \n |  ----------------------------------------------------------------------\n |  Methods inherited from transformers.utils.hub.PushToHubMixin:\n |  \n |  push_to_hub(self, repo_id: str, use_temp_dir: Optional[bool] = None, commit_message: Optional[str] = None, private: Optional[bool] = None, use_auth_token: Union[bool, str, NoneType] = None, max_shard_size: Union[str, int, NoneType] = '10GB', create_pr: bool = False, safe_serialization: bool = False, **deprecated_kwargs) -> str\n |      Upload the {object_files} to the 🤗 Model Hub while synchronizing a local clone of the repo in\n |      `repo_path_or_name`.\n |      \n |      Parameters:\n |          repo_id (`str`):\n |              The name of the repository you want to push your {object} to. It should contain your organization name\n |              when pushing to a given organization.\n |          use_temp_dir (`bool`, *optional*):\n |              Whether or not to use a temporary directory to store the files saved before they are pushed to the Hub.\n |              Will default to `True` if there is no directory named like `repo_id`, `False` otherwise.\n |          commit_message (`str`, *optional*):\n |              Message to commit while pushing. Will default to `\"Upload {object}\"`.\n |          private (`bool`, *optional*):\n |              Whether or not the repository created should be private.\n |          use_auth_token (`bool` or `str`, *optional*):\n |              The token to use as HTTP bearer authorization for remote files. If `True`, will use the token generated\n |              when running `huggingface-cli login` (stored in `~/.huggingface`). Will default to `True` if `repo_url`\n |              is not specified.\n |          max_shard_size (`int` or `str`, *optional*, defaults to `\"10GB\"`):\n |              Only applicable for models. The maximum size for a checkpoint before being sharded. Checkpoints shard\n |              will then be each of size lower than this size. If expressed as a string, needs to be digits followed\n |              by a unit (like `\"5MB\"`).\n |          create_pr (`bool`, *optional*, defaults to `False`):\n |              Whether or not to create a PR with the uploaded files or directly commit.\n |          safe_serialization (`bool`, *optional*, defaults to `False`):\n |              Whether or not to convert the model weights in safetensors format for safer serialization.\n |      \n |      Examples:\n |      \n |      ```python\n |      from transformers import {object_class}\n |      \n |      {object} = {object_class}.from_pretrained(\"bert-base-cased\")\n |      \n |      # Push the {object} to your namespace with the name \"my-finetuned-bert\".\n |      {object}.push_to_hub(\"my-finetuned-bert\")\n |      \n |      # Push the {object} to an organization with the name \"my-finetuned-bert\".\n |      {object}.push_to_hub(\"huggingface/my-finetuned-bert\")\n |      ```\n |  \n |  ----------------------------------------------------------------------\n |  Data descriptors inherited from transformers.utils.hub.PushToHubMixin:\n |  \n |  __dict__\n |      dictionary for instance variables (if defined)\n |  \n |  __weakref__\n |      list of weak references to the object (if defined)\n\n"
     ]
    }
   ],
   "source": [
    "help(PeftConfig)"
   ]
  },
  {
   "cell_type": "code",
   "execution_count": 0,
   "metadata": {
    "application/vnd.databricks.v1+cell": {
     "cellMetadata": {
      "byteLimit": 2048000,
      "rowLimit": 10000
     },
     "inputWidgets": {},
     "nuid": "d892abb5-4100-48aa-b43d-dfd76bb0646d",
     "showTitle": false,
     "title": ""
    }
   },
   "outputs": [
    {
     "output_type": "stream",
     "name": "stdout",
     "output_type": "stream",
     "text": [
      "Help on class PeftModel in module peft.peft_model:\n\nclass PeftModel(transformers.utils.hub.PushToHubMixin, torch.nn.modules.module.Module)\n |  PeftModel(model: 'PreTrainedModel', peft_config: 'PeftConfig', adapter_name: 'str' = 'default')\n |  \n |  Base model encompassing various Peft methods.\n |  \n |  Args:\n |      model ([`~transformers.PreTrainedModel`]): The base transformer model used for Peft.\n |      peft_config ([`PeftConfig`]): The configuration of the Peft model.\n |  \n |  \n |  **Attributes**:\n |      - **base_model** ([`~transformers.PreTrainedModel`]) -- The base transformer model used for Peft.\n |      - **peft_config** ([`PeftConfig`]) -- The configuration of the Peft model.\n |      - **modules_to_save** (`list` of `str`) -- The list of sub-module names to save when\n |      saving the model.\n |      - **prompt_encoder** ([`PromptEncoder`]) -- The prompt encoder used for Peft if\n |      using [`PromptLearningConfig`].\n |      - **prompt_tokens** (`torch.Tensor`) -- The virtual prompt tokens used for Peft if\n |      using [`PromptLearningConfig`].\n |      - **transformer_backbone_name** (`str`) -- The name of the transformer\n |      backbone in the base model if using [`PromptLearningConfig`].\n |      - **word_embeddings** (`torch.nn.Embedding`) -- The word embeddings of the transformer backbone\n |      in the base model if using [`PromptLearningConfig`].\n |  \n |  Method resolution order:\n |      PeftModel\n |      transformers.utils.hub.PushToHubMixin\n |      torch.nn.modules.module.Module\n |      builtins.object\n |  \n |  Methods defined here:\n |  \n |  __getattr__(self, name: 'str')\n |      Forward missing attributes to the wrapped module.\n |  \n |  __init__(self, model: 'PreTrainedModel', peft_config: 'PeftConfig', adapter_name: 'str' = 'default')\n |      Initialize self.  See help(type(self)) for accurate signature.\n |  \n |  add_adapter(self, adapter_name: 'str', peft_config: 'PeftConfig')\n |  \n |  create_or_update_model_card(self, output_dir: 'str')\n |      Updates or create model card to include information about peft:\n |      1. Adds `peft` library tag\n |      2. Adds peft version\n |      3. Adds quantization information if it was used\n |  \n |  disable_adapter(self)\n |      Disables the adapter module.\n |  \n |  forward(self, *args: 'Any', **kwargs: 'Any')\n |      Forward pass of the model.\n |  \n |  get_base_model(self)\n |      Returns the base model.\n |  \n |  get_prompt(self, batch_size: 'int')\n |      Returns the virtual prompts to use for Peft. Only applicable when `peft_config.peft_type != PeftType.LORA`.\n |  \n |  get_prompt_embedding_to_save(self, adapter_name: 'str')\n |      Returns the prompt embedding to save when saving the model. Only applicable when `peft_config.peft_type !=\n |      PeftType.LORA`.\n |  \n |  load_adapter(self, model_id: 'str', adapter_name: 'str', is_trainable: 'bool' = False, **kwargs: 'Any')\n |  \n |  print_trainable_parameters(self)\n |      Prints the number of trainable parameters in the model.\n |  \n |  save_pretrained(self, save_directory: 'str', safe_serialization: 'bool' = False, selected_adapters: 'Optional[List[str]]' = None, **kwargs: 'Any')\n |      This function saves the adapter model and the adapter configuration files to a directory, so that it can be\n |      reloaded using the [`LoraModel.from_pretrained`] class method, and also used by the [`LoraModel.push_to_hub`]\n |      method.\n |      \n |      Args:\n |          save_directory (`str`):\n |              Directory where the adapter model and configuration files will be saved (will be created if it does not\n |              exist).\n |          kwargs (additional keyword arguments, *optional*):\n |              Additional keyword arguments passed along to the `push_to_hub` method.\n |  \n |  set_adapter(self, adapter_name: 'str')\n |      Sets the active adapter.\n |  \n |  set_additional_trainable_modules(self, peft_config, adapter_name)\n |  \n |  ----------------------------------------------------------------------\n |  Class methods defined here:\n |  \n |  from_pretrained(model: 'PreTrainedModel', model_id: 'Union[str, os.PathLike]', adapter_name: 'str' = 'default', is_trainable: 'bool' = False, config: 'Optional[PeftConfig]' = None, **kwargs: 'Any') from builtins.type\n |      Instantiate a [`LoraModel`] from a pretrained Lora configuration and weights.\n |      \n |      Args:\n |          model ([`~transformers.PreTrainedModel`]):\n |              The model to be adapted. The model should be initialized with the\n |              [`~transformers.PreTrainedModel.from_pretrained`] method from the 🤗 Transformers library.\n |          model_id (`str` or `os.PathLike`):\n |              The name of the Lora configuration to use. Can be either:\n |                  - A string, the `model id` of a Lora configuration hosted inside a model repo on the Hugging Face\n |                    Hub.\n |                  - A path to a directory containing a Lora configuration file saved using the `save_pretrained`\n |                    method (`./my_lora_config_directory/`).\n |          adapter_name (`str`, *optional*, defaults to `\"default\"`):\n |              The name of the adapter to be loaded. This is useful for loading multiple adapters.\n |          is_trainable (`bool`, *optional*, defaults to `False`):\n |              Whether the adapter should be trainable or not. If `False`, the adapter will be frozen and use for\n |              inference\n |          config ([`~peft.PeftConfig`], *optional*):\n |              The configuration object to use instead of an automatically loaded configuation. This configuration\n |              object is mutually exclusive with `model_id` and `kwargs`. This is useful when configuration is already\n |              loaded before calling `from_pretrained`.\n |          kwargs: (`optional`):\n |              Additional keyword arguments passed along to the specific Lora configuration class.\n |  \n |  ----------------------------------------------------------------------\n |  Readonly properties defined here:\n |  \n |  active_peft_config\n |  \n |  base_model_torch_dtype\n |  \n |  ----------------------------------------------------------------------\n |  Data and other attributes defined here:\n |  \n |  __annotations__ = {}\n |  \n |  ----------------------------------------------------------------------\n |  Methods inherited from transformers.utils.hub.PushToHubMixin:\n |  \n |  push_to_hub(self, repo_id: str, use_temp_dir: Optional[bool] = None, commit_message: Optional[str] = None, private: Optional[bool] = None, use_auth_token: Union[bool, str, NoneType] = None, max_shard_size: Union[str, int, NoneType] = '10GB', create_pr: bool = False, safe_serialization: bool = False, **deprecated_kwargs) -> str\n |      Upload the {object_files} to the 🤗 Model Hub while synchronizing a local clone of the repo in\n |      `repo_path_or_name`.\n |      \n |      Parameters:\n |          repo_id (`str`):\n |              The name of the repository you want to push your {object} to. It should contain your organization name\n |              when pushing to a given organization.\n |          use_temp_dir (`bool`, *optional*):\n |              Whether or not to use a temporary directory to store the files saved before they are pushed to the Hub.\n |              Will default to `True` if there is no directory named like `repo_id`, `False` otherwise.\n |          commit_message (`str`, *optional*):\n |              Message to commit while pushing. Will default to `\"Upload {object}\"`.\n |          private (`bool`, *optional*):\n |              Whether or not the repository created should be private.\n |          use_auth_token (`bool` or `str`, *optional*):\n |              The token to use as HTTP bearer authorization for remote files. If `True`, will use the token generated\n |              when running `huggingface-cli login` (stored in `~/.huggingface`). Will default to `True` if `repo_url`\n |              is not specified.\n |          max_shard_size (`int` or `str`, *optional*, defaults to `\"10GB\"`):\n |              Only applicable for models. The maximum size for a checkpoint before being sharded. Checkpoints shard\n |              will then be each of size lower than this size. If expressed as a string, needs to be digits followed\n |              by a unit (like `\"5MB\"`).\n |          create_pr (`bool`, *optional*, defaults to `False`):\n |              Whether or not to create a PR with the uploaded files or directly commit.\n |          safe_serialization (`bool`, *optional*, defaults to `False`):\n |              Whether or not to convert the model weights in safetensors format for safer serialization.\n |      \n |      Examples:\n |      \n |      ```python\n |      from transformers import {object_class}\n |      \n |      {object} = {object_class}.from_pretrained(\"bert-base-cased\")\n |      \n |      # Push the {object} to your namespace with the name \"my-finetuned-bert\".\n |      {object}.push_to_hub(\"my-finetuned-bert\")\n |      \n |      # Push the {object} to an organization with the name \"my-finetuned-bert\".\n |      {object}.push_to_hub(\"huggingface/my-finetuned-bert\")\n |      ```\n |  \n |  ----------------------------------------------------------------------\n |  Data descriptors inherited from transformers.utils.hub.PushToHubMixin:\n |  \n |  __dict__\n |      dictionary for instance variables (if defined)\n |  \n |  __weakref__\n |      list of weak references to the object (if defined)\n |  \n |  ----------------------------------------------------------------------\n |  Methods inherited from torch.nn.modules.module.Module:\n |  \n |  __call__ = _call_impl(self, *input, **kwargs)\n |  \n |  __delattr__(self, name)\n |      Implement delattr(self, name).\n |  \n |  __dir__(self)\n |      Default dir() implementation.\n |  \n |  __repr__(self)\n |      Return repr(self).\n |  \n |  __setattr__(self, name: str, value: Union[torch.Tensor, ForwardRef('Module')]) -> None\n |      Implement setattr(self, name, value).\n |  \n |  __setstate__(self, state)\n |  \n |  add_module(self, name: str, module: Optional[ForwardRef('Module')]) -> None\n |      Adds a child module to the current module.\n |      \n |      The module can be accessed as an attribute using the given name.\n |      \n |      Args:\n |          name (str): name of the child module. The child module can be\n |              accessed from this module using the given name\n |          module (Module): child module to be added to the module.\n |  \n |  apply(self: ~T, fn: Callable[[ForwardRef('Module')], NoneType]) -> ~T\n |      Applies ``fn`` recursively to every submodule (as returned by ``.children()``)\n |      as well as self. Typical use includes initializing the parameters of a model\n |      (see also :ref:`nn-init-doc`).\n |      \n |      Args:\n |          fn (:class:`Module` -> None): function to be applied to each submodule\n |      \n |      Returns:\n |          Module: self\n |      \n |      Example::\n |      \n |          >>> @torch.no_grad()\n |          >>> def init_weights(m):\n |          >>>     print(m)\n |          >>>     if type(m) == nn.Linear:\n |          >>>         m.weight.fill_(1.0)\n |          >>>         print(m.weight)\n |          >>> net = nn.Sequential(nn.Linear(2, 2), nn.Linear(2, 2))\n |          >>> net.apply(init_weights)\n |          Linear(in_features=2, out_features=2, bias=True)\n |          Parameter containing:\n |          tensor([[1., 1.],\n |                  [1., 1.]], requires_grad=True)\n |          Linear(in_features=2, out_features=2, bias=True)\n |          Parameter containing:\n |          tensor([[1., 1.],\n |                  [1., 1.]], requires_grad=True)\n |          Sequential(\n |            (0): Linear(in_features=2, out_features=2, bias=True)\n |            (1): Linear(in_features=2, out_features=2, bias=True)\n |          )\n |  \n |  bfloat16(self: ~T) -> ~T\n |      Casts all floating point parameters and buffers to ``bfloat16`` datatype.\n |      \n |      .. note::\n |          This method modifies the module in-place.\n |      \n |      Returns:\n |          Module: self\n |  \n |  buffers(self, recurse: bool = True) -> Iterator[torch.Tensor]\n |      Returns an iterator over module buffers.\n |      \n |      Args:\n |          recurse (bool): if True, then yields buffers of this module\n |              and all submodules. Otherwise, yields only buffers that\n |              are direct members of this module.\n |      \n |      Yields:\n |          torch.Tensor: module buffer\n |      \n |      Example::\n |      \n |          >>> # xdoctest: +SKIP(\"undefined vars\")\n |          >>> for buf in model.buffers():\n |          >>>     print(type(buf), buf.size())\n |          <class 'torch.Tensor'> (20L,)\n |          <class 'torch.Tensor'> (20L, 1L, 5L, 5L)\n |  \n |  children(self) -> Iterator[ForwardRef('Module')]\n |      Returns an iterator over immediate children modules.\n |      \n |      Yields:\n |          Module: a child module\n |  \n |  cpu(self: ~T) -> ~T\n |      Moves all model parameters and buffers to the CPU.\n |      \n |      .. note::\n |          This method modifies the module in-place.\n |      \n |      Returns:\n |          Module: self\n |  \n |  cuda(self: ~T, device: Union[int, torch.device, NoneType] = None) -> ~T\n |      Moves all model parameters and buffers to the GPU.\n |      \n |      This also makes associated parameters and buffers different objects. So\n |      it should be called before constructing optimizer if the module will\n |      live on GPU while being optimized.\n |      \n |      .. note::\n |          This method modifies the module in-place.\n |      \n |      Args:\n |          device (int, optional): if specified, all parameters will be\n |              copied to that device\n |      \n |      Returns:\n |          Module: self\n |  \n |  double(self: ~T) -> ~T\n |      Casts all floating point parameters and buffers to ``double`` datatype.\n |      \n |      .. note::\n |          This method modifies the module in-place.\n |      \n |      Returns:\n |          Module: self\n |  \n |  eval(self: ~T) -> ~T\n |      Sets the module in evaluation mode.\n |      \n |      This has any effect only on certain modules. See documentations of\n |      particular modules for details of their behaviors in training/evaluation\n |      mode, if they are affected, e.g. :class:`Dropout`, :class:`BatchNorm`,\n |      etc.\n |      \n |      This is equivalent with :meth:`self.train(False) <torch.nn.Module.train>`.\n |      \n |      See :ref:`locally-disable-grad-doc` for a comparison between\n |      `.eval()` and several similar mechanisms that may be confused with it.\n |      \n |      Returns:\n |          Module: self\n |  \n |  extra_repr(self) -> str\n |      Set the extra representation of the module\n |      \n |      To print customized extra information, you should re-implement\n |      this method in your own modules. Both single-line and multi-line\n |      strings are acceptable.\n |  \n |  float(self: ~T) -> ~T\n |      Casts all floating point parameters and buffers to ``float`` datatype.\n |      \n |      .. note::\n |          This method modifies the module in-place.\n |      \n |      Returns:\n |          Module: self\n |  \n |  get_buffer(self, target: str) -> 'Tensor'\n |      Returns the buffer given by ``target`` if it exists,\n |      otherwise throws an error.\n |      \n |      See the docstring for ``get_submodule`` for a more detailed\n |      explanation of this method's functionality as well as how to\n |      correctly specify ``target``.\n |      \n |      Args:\n |          target: The fully-qualified string name of the buffer\n |              to look for. (See ``get_submodule`` for how to specify a\n |              fully-qualified string.)\n |      \n |      Returns:\n |          torch.Tensor: The buffer referenced by ``target``\n |      \n |      Raises:\n |          AttributeError: If the target string references an invalid\n |              path or resolves to something that is not a\n |              buffer\n |  \n |  get_extra_state(self) -> Any\n |      Returns any extra state to include in the module's state_dict.\n |      Implement this and a corresponding :func:`set_extra_state` for your module\n |      if you need to store extra state. This function is called when building the\n |      module's `state_dict()`.\n |      \n |      Note that extra state should be pickleable to ensure working serialization\n |      of the state_dict. We only provide provide backwards compatibility guarantees\n |      for serializing Tensors; other objects may break backwards compatibility if\n |      their serialized pickled form changes.\n |      \n |      Returns:\n |          object: Any extra state to store in the module's state_dict\n |  \n |  get_parameter(self, target: str) -> 'Parameter'\n |      Returns the parameter given by ``target`` if it exists,\n |      otherwise throws an error.\n |      \n |      See the docstring for ``get_submodule`` for a more detailed\n |      explanation of this method's functionality as well as how to\n |      correctly specify ``target``.\n |      \n |      Args:\n |          target: The fully-qualified string name of the Parameter\n |              to look for. (See ``get_submodule`` for how to specify a\n |              fully-qualified string.)\n |      \n |      Returns:\n |          torch.nn.Parameter: The Parameter referenced by ``target``\n |      \n |      Raises:\n |          AttributeError: If the target string references an invalid\n |              path or resolves to something that is not an\n |              ``nn.Parameter``\n |  \n |  get_submodule(self, target: str) -> 'Module'\n |      Returns the submodule given by ``target`` if it exists,\n |      otherwise throws an error.\n |      \n |      For example, let's say you have an ``nn.Module`` ``A`` that\n |      looks like this:\n |      \n |      .. code-block:: text\n |      \n |          A(\n |              (net_b): Module(\n |                  (net_c): Module(\n |                      (conv): Conv2d(16, 33, kernel_size=(3, 3), stride=(2, 2))\n |                  )\n |                  (linear): Linear(in_features=100, out_features=200, bias=True)\n |              )\n |          )\n |      \n |      (The diagram shows an ``nn.Module`` ``A``. ``A`` has a nested\n |      submodule ``net_b``, which itself has two submodules ``net_c``\n |      and ``linear``. ``net_c`` then has a submodule ``conv``.)\n |      \n |      To check whether or not we have the ``linear`` submodule, we\n |      would call ``get_submodule(\"net_b.linear\")``. To check whether\n |      we have the ``conv`` submodule, we would call\n |      ``get_submodule(\"net_b.net_c.conv\")``.\n |      \n |      The runtime of ``get_submodule`` is bounded by the degree\n |      of module nesting in ``target``. A query against\n |      ``named_modules`` achieves the same result, but it is O(N) in\n |      the number of transitive modules. So, for a simple check to see\n |      if some submodule exists, ``get_submodule`` should always be\n |      used.\n |      \n |      Args:\n |          target: The fully-qualified string name of the submodule\n |              to look for. (See above example for how to specify a\n |              fully-qualified string.)\n |      \n |      Returns:\n |          torch.nn.Module: The submodule referenced by ``target``\n |      \n |      Raises:\n |          AttributeError: If the target string references an invalid\n |              path or resolves to something that is not an\n |              ``nn.Module``\n |  \n |  half(self: ~T) -> ~T\n |      Casts all floating point parameters and buffers to ``half`` datatype.\n |      \n |      .. note::\n |          This method modifies the module in-place.\n |      \n |      Returns:\n |          Module: self\n |  \n |  ipu(self: ~T, device: Union[int, torch.device, NoneType] = None) -> ~T\n |      Moves all model parameters and buffers to the IPU.\n |      \n |      This also makes associated parameters and buffers different objects. So\n |      it should be called before constructing optimizer if the module will\n |      live on IPU while being optimized.\n |      \n |      .. note::\n |          This method modifies the module in-place.\n |      \n |      Arguments:\n |          device (int, optional): if specified, all parameters will be\n |              copied to that device\n |      \n |      Returns:\n |          Module: self\n |  \n |  load_state_dict(self, state_dict: Mapping[str, Any], strict: bool = True)\n |      Copies parameters and buffers from :attr:`state_dict` into\n |      this module and its descendants. If :attr:`strict` is ``True``, then\n |      the keys of :attr:`state_dict` must exactly match the keys returned\n |      by this module's :meth:`~torch.nn.Module.state_dict` function.\n |      \n |      Args:\n |          state_dict (dict): a dict containing parameters and\n |              persistent buffers.\n |          strict (bool, optional): whether to strictly enforce that the keys\n |              in :attr:`state_dict` match the keys returned by this module's\n |              :meth:`~torch.nn.Module.state_dict` function. Default: ``True``\n |      \n |      Returns:\n |          ``NamedTuple`` with ``missing_keys`` and ``unexpected_keys`` fields:\n |              * **missing_keys** is a list of str containing the missing keys\n |              * **unexpected_keys** is a list of str containing the unexpected keys\n |      \n |      Note:\n |          If a parameter or buffer is registered as ``None`` and its corresponding key\n |          exists in :attr:`state_dict`, :meth:`load_state_dict` will raise a\n |          ``RuntimeError``.\n |  \n |  modules(self) -> Iterator[ForwardRef('Module')]\n |      Returns an iterator over all modules in the network.\n |      \n |      Yields:\n |          Module: a module in the network\n |      \n |      Note:\n |          Duplicate modules are returned only once. In the following\n |          example, ``l`` will be returned only once.\n |      \n |      Example::\n |      \n |          >>> l = nn.Linear(2, 2)\n |          >>> net = nn.Sequential(l, l)\n |          >>> for idx, m in enumerate(net.modules()):\n |          ...     print(idx, '->', m)\n |      \n |          0 -> Sequential(\n |            (0): Linear(in_features=2, out_features=2, bias=True)\n |            (1): Linear(in_features=2, out_features=2, bias=True)\n |          )\n |          1 -> Linear(in_features=2, out_features=2, bias=True)\n |  \n |  named_buffers(self, prefix: str = '', recurse: bool = True) -> Iterator[Tuple[str, torch.Tensor]]\n |      Returns an iterator over module buffers, yielding both the\n |      name of the buffer as well as the buffer itself.\n |      \n |      Args:\n |          prefix (str): prefix to prepend to all buffer names.\n |          recurse (bool): if True, then yields buffers of this module\n |              and all submodules. Otherwise, yields only buffers that\n |              are direct members of this module.\n |      \n |      Yields:\n |          (str, torch.Tensor): Tuple containing the name and buffer\n |      \n |      Example::\n |      \n |          >>> # xdoctest: +SKIP(\"undefined vars\")\n |          >>> for name, buf in self.named_buffers():\n |          >>>    if name in ['running_var']:\n |          >>>        print(buf.size())\n |  \n |  named_children(self) -> Iterator[Tuple[str, ForwardRef('Module')]]\n |      Returns an iterator over immediate children modules, yielding both\n |      the name of the module as well as the module itself.\n |      \n |      Yields:\n |          (str, Module): Tuple containing a name and child module\n |      \n |      Example::\n |      \n |          >>> # xdoctest: +SKIP(\"undefined vars\")\n |          >>> for name, module in model.named_children():\n |          >>>     if name in ['conv4', 'conv5']:\n |          >>>         print(module)\n |  \n |  named_modules(self, memo: Optional[Set[ForwardRef('Module')]] = None, prefix: str = '', remove_duplicate: bool = True)\n |      Returns an iterator over all modules in the network, yielding\n |      both the name of the module as well as the module itself.\n |      \n |      Args:\n |          memo: a memo to store the set of modules already added to the result\n |          prefix: a prefix that will be added to the name of the module\n |          remove_duplicate: whether to remove the duplicated module instances in the result\n |              or not\n |      \n |      Yields:\n |          (str, Module): Tuple of name and module\n |      \n |      Note:\n |          Duplicate modules are returned only once. In the following\n |          example, ``l`` will be returned only once.\n |      \n |      Example::\n |      \n |          >>> l = nn.Linear(2, 2)\n |          >>> net = nn.Sequential(l, l)\n |          >>> for idx, m in enumerate(net.named_modules()):\n |          ...     print(idx, '->', m)\n |      \n |          0 -> ('', Sequential(\n |            (0): Linear(in_features=2, out_features=2, bias=True)\n |            (1): Linear(in_features=2, out_features=2, bias=True)\n |          ))\n |          1 -> ('0', Linear(in_features=2, out_features=2, bias=True))\n |  \n |  named_parameters(self, prefix: str = '', recurse: bool = True) -> Iterator[Tuple[str, torch.nn.parameter.Parameter]]\n |      Returns an iterator over module parameters, yielding both the\n |      name of the parameter as well as the parameter itself.\n |      \n |      Args:\n |          prefix (str): prefix to prepend to all parameter names.\n |          recurse (bool): if True, then yields parameters of this module\n |              and all submodules. Otherwise, yields only parameters that\n |              are direct members of this module.\n |      \n |      Yields:\n |          (str, Parameter): Tuple containing the name and parameter\n |      \n |      Example::\n |      \n |          >>> # xdoctest: +SKIP(\"undefined vars\")\n |          >>> for name, param in self.named_parameters():\n |          >>>    if name in ['bias']:\n |          >>>        print(param.size())\n |  \n |  parameters(self, recurse: bool = True) -> Iterator[torch.nn.parameter.Parameter]\n |      Returns an iterator over module parameters.\n |      \n |      This is typically passed to an optimizer.\n |      \n |      Args:\n |          recurse (bool): if True, then yields parameters of this module\n |              and all submodules. Otherwise, yields only parameters that\n |              are direct members of this module.\n |      \n |      Yields:\n |          Parameter: module parameter\n |      \n |      Example::\n |      \n |          >>> # xdoctest: +SKIP(\"undefined vars\")\n |          >>> for param in model.parameters():\n |          >>>     print(type(param), param.size())\n |          <class 'torch.Tensor'> (20L,)\n |          <class 'torch.Tensor'> (20L, 1L, 5L, 5L)\n |  \n |  register_backward_hook(self, hook: Callable[[ForwardRef('Module'), Union[Tuple[torch.Tensor, ...], torch.Tensor], Union[Tuple[torch.Tensor, ...], torch.Tensor]], Optional[torch.Tensor]]) -> torch.utils.hooks.RemovableHandle\n |      Registers a backward hook on the module.\n |      \n |      This function is deprecated in favor of :meth:`~torch.nn.Module.register_full_backward_hook` and\n |      the behavior of this function will change in future versions.\n |      \n |      Returns:\n |          :class:`torch.utils.hooks.RemovableHandle`:\n |              a handle that can be used to remove the added hook by calling\n |              ``handle.remove()``\n |  \n |  register_buffer(self, name: str, tensor: Optional[torch.Tensor], persistent: bool = True) -> None\n |      Adds a buffer to the module.\n |      \n |      This is typically used to register a buffer that should not to be\n |      considered a model parameter. For example, BatchNorm's ``running_mean``\n |      is not a parameter, but is part of the module's state. Buffers, by\n |      default, are persistent and will be saved alongside parameters. This\n |      behavior can be changed by setting :attr:`persistent` to ``False``. The\n |      only difference between a persistent buffer and a non-persistent buffer\n |      is that the latter will not be a part of this module's\n |      :attr:`state_dict`.\n |      \n |      Buffers can be accessed as attributes using given names.\n |      \n |      Args:\n |          name (str): name of the buffer. The buffer can be accessed\n |              from this module using the given name\n |          tensor (Tensor or None): buffer to be registered. If ``None``, then operations\n |              that run on buffers, such as :attr:`cuda`, are ignored. If ``None``,\n |              the buffer is **not** included in the module's :attr:`state_dict`.\n |          persistent (bool): whether the buffer is part of this module's\n |              :attr:`state_dict`.\n |      \n |      Example::\n |      \n |          >>> # xdoctest: +SKIP(\"undefined vars\")\n |          >>> self.register_buffer('running_mean', torch.zeros(num_features))\n |  \n |  register_forward_hook(self, hook: Callable[..., NoneType]) -> torch.utils.hooks.RemovableHandle\n |      Registers a forward hook on the module.\n |      \n |      The hook will be called every time after :func:`forward` has computed an output.\n |      It should have the following signature::\n |      \n |          hook(module, input, output) -> None or modified output\n |      \n |      The input contains only the positional arguments given to the module.\n |      Keyword arguments won't be passed to the hooks and only to the ``forward``.\n |      The hook can modify the output. It can modify the input inplace but\n |      it will not have effect on forward since this is called after\n |      :func:`forward` is called.\n |      \n |      Returns:\n |          :class:`torch.utils.hooks.RemovableHandle`:\n |              a handle that can be used to remove the added hook by calling\n |              ``handle.remove()``\n |  \n |  register_forward_pre_hook(self, hook: Callable[..., NoneType]) -> torch.utils.hooks.RemovableHandle\n |      Registers a forward pre-hook on the module.\n |      \n |      The hook will be called every time before :func:`forward` is invoked.\n |      It should have the following signature::\n |      \n |          hook(module, input) -> None or modified input\n |      \n |      The input contains only the positional arguments given to the module.\n |      Keyword arguments won't be passed to the hooks and only to the ``forward``.\n |      The hook can modify the input. User can either return a tuple or a\n |      single modified value in the hook. We will wrap the value into a tuple\n |      if a single value is returned(unless that value is already a tuple).\n |      \n |      Returns:\n |          :class:`torch.utils.hooks.RemovableHandle`:\n |              a handle that can be used to remove the added hook by calling\n |              ``handle.remove()``\n |  \n |  register_full_backward_hook(self, hook: Callable[[ForwardRef('Module'), Union[Tuple[torch.Tensor, ...], torch.Tensor], Union[Tuple[torch.Tensor, ...], torch.Tensor]], Optional[torch.Tensor]]) -> torch.utils.hooks.RemovableHandle\n |      Registers a backward hook on the module.\n |      \n |      The hook will be called every time the gradients with respect to a module\n |      are computed, i.e. the hook will execute if and only if the gradients with\n |      respect to module outputs are computed. The hook should have the following\n |      signature::\n |      \n |          hook(module, grad_input, grad_output) -> tuple(Tensor) or None\n |      \n |      The :attr:`grad_input` and :attr:`grad_output` are tuples that contain the gradients\n |      with respect to the inputs and outputs respectively. The hook should\n |      not modify its arguments, but it can optionally return a new gradient with\n |      respect to the input that will be used in place of :attr:`grad_input` in\n |      subsequent computations. :attr:`grad_input` will only correspond to the inputs given\n |      as positional arguments and all kwarg arguments are ignored. Entries\n |      in :attr:`grad_input` and :attr:`grad_output` will be ``None`` for all non-Tensor\n |      arguments.\n |      \n |      For technical reasons, when this hook is applied to a Module, its forward function will\n |      receive a view of each Tensor passed to the Module. Similarly the caller will receive a view\n |      of each Tensor returned by the Module's forward function.\n |      \n |      .. warning ::\n |          Modifying inputs or outputs inplace is not allowed when using backward hooks and\n |          will raise an error.\n |      \n |      Returns:\n |          :class:`torch.utils.hooks.RemovableHandle`:\n |              a handle that can be used to remove the added hook by calling\n |              ``handle.remove()``\n |  \n |  register_load_state_dict_post_hook(self, hook)\n |      Registers a post hook to be run after module's ``load_state_dict``\n |      is called.\n |      \n |      It should have the following signature::\n |          hook(module, incompatible_keys) -> None\n |      \n |      The ``module`` argument is the current module that this hook is registered\n |      on, and the ``incompatible_keys`` argument is a ``NamedTuple`` consisting\n |      of attributes ``missing_keys`` and ``unexpected_keys``. ``missing_keys``\n |      is a ``list`` of ``str`` containing the missing keys and\n |      ``unexpected_keys`` is a ``list`` of ``str`` containing the unexpected keys.\n |      \n |      The given incompatible_keys can be modified inplace if needed.\n |      \n |      Note that the checks performed when calling :func:`load_state_dict` with\n |      ``strict=True`` are affected by modifications the hook makes to\n |      ``missing_keys`` or ``unexpected_keys``, as expected. Additions to either\n |      set of keys will result in an error being thrown when ``strict=True``, and\n |      clearning out both missing and unexpected keys will avoid an error.\n |      \n |      Returns:\n |          :class:`torch.utils.hooks.RemovableHandle`:\n |              a handle that can be used to remove the added hook by calling\n |              ``handle.remove()``\n |  \n |  register_module(self, name: str, module: Optional[ForwardRef('Module')]) -> None\n |      Alias for :func:`add_module`.\n |  \n |  register_parameter(self, name: str, param: Optional[torch.nn.parameter.Parameter]) -> None\n |      Adds a parameter to the module.\n |      \n |      The parameter can be accessed as an attribute using given name.\n |      \n |      Args:\n |          name (str): name of the parameter. The parameter can be accessed\n |              from this module using the given name\n |          param (Parameter or None): parameter to be added to the module. If\n |              ``None``, then operations that run on parameters, such as :attr:`cuda`,\n |              are ignored. If ``None``, the parameter is **not** included in the\n |              module's :attr:`state_dict`.\n |  \n |  requires_grad_(self: ~T, requires_grad: bool = True) -> ~T\n |      Change if autograd should record operations on parameters in this\n |      module.\n |      \n |      This method sets the parameters' :attr:`requires_grad` attributes\n |      in-place.\n |      \n |      This method is helpful for freezing part of the module for finetuning\n |      or training parts of a model individually (e.g., GAN training).\n |      \n |      See :ref:`locally-disable-grad-doc` for a comparison between\n |      `.requires_grad_()` and several similar mechanisms that may be confused with it.\n |      \n |      Args:\n |          requires_grad (bool): whether autograd should record operations on\n |                                parameters in this module. Default: ``True``.\n |      \n |      Returns:\n |          Module: self\n |  \n |  set_extra_state(self, state: Any)\n |      This function is called from :func:`load_state_dict` to handle any extra state\n |      found within the `state_dict`. Implement this function and a corresponding\n |      :func:`get_extra_state` for your module if you need to store extra state within its\n |      `state_dict`.\n |      \n |      Args:\n |          state (dict): Extra state from the `state_dict`\n |  \n |  share_memory(self: ~T) -> ~T\n |      See :meth:`torch.Tensor.share_memory_`\n |  \n |  state_dict(self, *args, destination=None, prefix='', keep_vars=False)\n |      Returns a dictionary containing references to the whole state of the module.\n |      \n |      Both parameters and persistent buffers (e.g. running averages) are\n |      included. Keys are corresponding parameter and buffer names.\n |      Parameters and buffers set to ``None`` are not included.\n |      \n |      .. note::\n |          The returned object is a shallow copy. It contains references\n |          to the module's parameters and buffers.\n |      \n |      .. warning::\n |          Currently ``state_dict()`` also accepts positional arguments for\n |          ``destination``, ``prefix`` and ``keep_vars`` in order. However,\n |          this is being deprecated and keyword arguments will be enforced in\n |          future releases.\n |      \n |      .. warning::\n |          Please avoid the use of argument ``destination`` as it is not\n |          designed for end-users.\n |      \n |      Args:\n |          destination (dict, optional): If provided, the state of module will\n |              be updated into the dict and the same object is returned.\n |              Otherwise, an ``OrderedDict`` will be created and returned.\n |              Default: ``None``.\n |          prefix (str, optional): a prefix added to parameter and buffer\n |              names to compose the keys in state_dict. Default: ``''``.\n |          keep_vars (bool, optional): by default the :class:`~torch.Tensor` s\n |              returned in the state dict are detached from autograd. If it's\n |              set to ``True``, detaching will not be performed.\n |              Default: ``False``.\n |      \n |      Returns:\n |          dict:\n |              a dictionary containing a whole state of the module\n |      \n |      Example::\n |      \n |          >>> # xdoctest: +SKIP(\"undefined vars\")\n |          >>> module.state_dict().keys()\n |          ['bias', 'weight']\n |  \n |  to(self, *args, **kwargs)\n |      Moves and/or casts the parameters and buffers.\n |      \n |      This can be called as\n |      \n |      .. function:: to(device=None, dtype=None, non_blocking=False)\n |         :noindex:\n |      \n |      .. function:: to(dtype, non_blocking=False)\n |         :noindex:\n |      \n |      .. function:: to(tensor, non_blocking=False)\n |         :noindex:\n |      \n |      .. function:: to(memory_format=torch.channels_last)\n |         :noindex:\n |      \n |      Its signature is similar to :meth:`torch.Tensor.to`, but only accepts\n |      floating point or complex :attr:`dtype`\\ s. In addition, this method will\n |      only cast the floating point or complex parameters and buffers to :attr:`dtype`\n |      (if given). The integral parameters and buffers will be moved\n |      :attr:`device`, if that is given, but with dtypes unchanged. When\n |      :attr:`non_blocking` is set, it tries to convert/move asynchronously\n |      with respect to the host if possible, e.g., moving CPU Tensors with\n |      pinned memory to CUDA devices.\n |      \n |      See below for examples.\n |      \n |      .. note::\n |          This method modifies the module in-place.\n |      \n |      Args:\n |          device (:class:`torch.device`): the desired device of the parameters\n |              and buffers in this module\n |          dtype (:class:`torch.dtype`): the desired floating point or complex dtype of\n |              the parameters and buffers in this module\n |          tensor (torch.Tensor): Tensor whose dtype and device are the desired\n |              dtype and device for all parameters and buffers in this module\n |          memory_format (:class:`torch.memory_format`): the desired memory\n |              format for 4D parameters and buffers in this module (keyword\n |              only argument)\n |      \n |      Returns:\n |          Module: self\n |      \n |      Examples::\n |      \n |          >>> # xdoctest: +IGNORE_WANT(\"non-deterministic\")\n |          >>> linear = nn.Linear(2, 2)\n |          >>> linear.weight\n |          Parameter containing:\n |          tensor([[ 0.1913, -0.3420],\n |                  [-0.5113, -0.2325]])\n |          >>> linear.to(torch.double)\n |          Linear(in_features=2, out_features=2, bias=True)\n |          >>> linear.weight\n |          Parameter containing:\n |          tensor([[ 0.1913, -0.3420],\n |                  [-0.5113, -0.2325]], dtype=torch.float64)\n |          >>> # xdoctest: +REQUIRES(env:TORCH_DOCTEST_CUDA1)\n |          >>> gpu1 = torch.device(\"cuda:1\")\n |          >>> linear.to(gpu1, dtype=torch.half, non_blocking=True)\n |          Linear(in_features=2, out_features=2, bias=True)\n |          >>> linear.weight\n |          Parameter containing:\n |          tensor([[ 0.1914, -0.3420],\n |                  [-0.5112, -0.2324]], dtype=torch.float16, device='cuda:1')\n |          >>> cpu = torch.device(\"cpu\")\n |          >>> linear.to(cpu)\n |          Linear(in_features=2, out_features=2, bias=True)\n |          >>> linear.weight\n |          Parameter containing:\n |          tensor([[ 0.1914, -0.3420],\n |                  [-0.5112, -0.2324]], dtype=torch.float16)\n |      \n |          >>> linear = nn.Linear(2, 2, bias=None).to(torch.cdouble)\n |          >>> linear.weight\n |          Parameter containing:\n |          tensor([[ 0.3741+0.j,  0.2382+0.j],\n |                  [ 0.5593+0.j, -0.4443+0.j]], dtype=torch.complex128)\n |          >>> linear(torch.ones(3, 2, dtype=torch.cdouble))\n |          tensor([[0.6122+0.j, 0.1150+0.j],\n |                  [0.6122+0.j, 0.1150+0.j],\n |                  [0.6122+0.j, 0.1150+0.j]], dtype=torch.complex128)\n |  \n |  to_empty(self: ~T, *, device: Union[str, torch.device]) -> ~T\n |      Moves the parameters and buffers to the specified device without copying storage.\n |      \n |      Args:\n |          device (:class:`torch.device`): The desired device of the parameters\n |              and buffers in this module.\n |      \n |      Returns:\n |          Module: self\n |  \n |  train(self: ~T, mode: bool = True) -> ~T\n |      Sets the module in training mode.\n |      \n |      This has any effect only on certain modules. See documentations of\n |      particular modules for details of their behaviors in training/evaluation\n |      mode, if they are affected, e.g. :class:`Dropout`, :class:`BatchNorm`,\n |      etc.\n |      \n |      Args:\n |          mode (bool): whether to set training mode (``True``) or evaluation\n |                       mode (``False``). Default: ``True``.\n |      \n |      Returns:\n |          Module: self\n |  \n |  type(self: ~T, dst_type: Union[torch.dtype, str]) -> ~T\n |      Casts all parameters and buffers to :attr:`dst_type`.\n |      \n |      .. note::\n |          This method modifies the module in-place.\n |      \n |      Args:\n |          dst_type (type or string): the desired type\n |      \n |      Returns:\n |          Module: self\n |  \n |  xpu(self: ~T, device: Union[int, torch.device, NoneType] = None) -> ~T\n |      Moves all model parameters and buffers to the XPU.\n |      \n |      This also makes associated parameters and buffers different objects. So\n |      it should be called before constructing optimizer if the module will\n |      live on XPU while being optimized.\n |      \n |      .. note::\n |          This method modifies the module in-place.\n |      \n |      Arguments:\n |          device (int, optional): if specified, all parameters will be\n |              copied to that device\n |      \n |      Returns:\n |          Module: self\n |  \n |  zero_grad(self, set_to_none: bool = False) -> None\n |      Sets gradients of all model parameters to zero. See similar function\n |      under :class:`torch.optim.Optimizer` for more context.\n |      \n |      Args:\n |          set_to_none (bool): instead of setting to zero, set the grads to None.\n |              See :meth:`torch.optim.Optimizer.zero_grad` for details.\n |  \n |  ----------------------------------------------------------------------\n |  Data and other attributes inherited from torch.nn.modules.module.Module:\n |  \n |  T_destination = ~T_destination\n |  \n |  dump_patches = False\n\n"
     ]
    }
   ],
   "source": [
    "help(PeftModel)"
   ]
  },
  {
   "cell_type": "code",
   "execution_count": 0,
   "metadata": {
    "application/vnd.databricks.v1+cell": {
     "cellMetadata": {
      "byteLimit": 2048000,
      "rowLimit": 10000
     },
     "inputWidgets": {},
     "nuid": "09550a3d-3833-4108-b75b-c493cbf6af39",
     "showTitle": false,
     "title": ""
    }
   },
   "outputs": [
    {
     "output_type": "display_data",
     "data": {
      "text/plain": [
       "\u001B[0;31m---------------------------------------------------------------------------\u001B[0m\n",
       "\u001B[0;31mNameError\u001B[0m                                 Traceback (most recent call last)\n",
       "File \u001B[0;32m<command-1174370809808757>, line 3\u001B[0m\n",
       "\u001B[1;32m      1\u001B[0m \u001B[38;5;66;03m# Test your answer. DO NOT MODIFY THIS CELL.\u001B[39;00m\n",
       "\u001B[0;32m----> 3\u001B[0m dbTestQuestion2_4(\u001B[43mloaded_model\u001B[49m)\n",
       "\n",
       "\u001B[0;31mNameError\u001B[0m: name 'loaded_model' is not defined"
      ]
     },
     "metadata": {
      "application/vnd.databricks.v1+output": {
       "arguments": {},
       "data": "\u001B[0;31m---------------------------------------------------------------------------\u001B[0m\n\u001B[0;31mNameError\u001B[0m                                 Traceback (most recent call last)\nFile \u001B[0;32m<command-1174370809808757>, line 3\u001B[0m\n\u001B[1;32m      1\u001B[0m \u001B[38;5;66;03m# Test your answer. DO NOT MODIFY THIS CELL.\u001B[39;00m\n\u001B[0;32m----> 3\u001B[0m dbTestQuestion2_4(\u001B[43mloaded_model\u001B[49m)\n\n\u001B[0;31mNameError\u001B[0m: name 'loaded_model' is not defined",
       "errorSummary": "<span class='ansi-red-fg'>NameError</span>: name 'loaded_model' is not defined",
       "errorTraceType": "ansi",
       "metadata": {},
       "type": "ipynbError"
      }
     },
     "output_type": "display_data"
    }
   ],
   "source": [
    "# Test your answer. DO NOT MODIFY THIS CELL.\n",
    "\n",
    "dbTestQuestion2_4(loaded_model)"
   ]
  },
  {
   "cell_type": "markdown",
   "metadata": {
    "application/vnd.databricks.v1+cell": {
     "cellMetadata": {},
     "inputWidgets": {},
     "nuid": "c7a0fd45-fd06-4e5b-8554-7e70e6bdfaa6",
     "showTitle": false,
     "title": ""
    }
   },
   "source": [
    "## Inference"
   ]
  },
  {
   "cell_type": "markdown",
   "metadata": {
    "application/vnd.databricks.v1+cell": {
     "cellMetadata": {},
     "inputWidgets": {},
     "nuid": "8055e5e3-a735-4e40-8146-6cc1d623c01e",
     "showTitle": false,
     "title": ""
    }
   },
   "source": [
    "### Question 5\n",
    "\n",
    "Generate output tokens to the same input we provided in the demo notebook before. How do the outputs compare?"
   ]
  },
  {
   "cell_type": "code",
   "execution_count": 0,
   "metadata": {
    "application/vnd.databricks.v1+cell": {
     "cellMetadata": {},
     "inputWidgets": {},
     "nuid": "1a8e804b-3744-4af9-8b5b-d560d0b35949",
     "showTitle": false,
     "title": ""
    }
   },
   "outputs": [],
   "source": [
    "# TODO\n",
    "inputs = tokenizer(\"Two things are infinite: \", return_tensors=\"pt\")\n",
    "outputs = peft_model.generate(\n",
    "    input_ids=<FILL_IN>, \n",
    "    attention_mask=<FILL_IN>, \n",
    "    max_new_tokens=<FILL_IN>, \n",
    "    eos_token_id=tokenizer.eos_token_id\n",
    "    )\n",
    "print(tokenizer.batch_decode(<FILL_IN>, skip_special_tokens=True))"
   ]
  },
  {
   "cell_type": "code",
   "execution_count": 0,
   "metadata": {
    "application/vnd.databricks.v1+cell": {
     "cellMetadata": {},
     "inputWidgets": {},
     "nuid": "5964a276-c787-4aa6-ad2f-f2870af5f7c3",
     "showTitle": false,
     "title": ""
    }
   },
   "outputs": [],
   "source": [
    "# Test your answer. DO NOT MODIFY THIS CELL.\n",
    "\n",
    "dbTestQuestion2_5(outputs)"
   ]
  },
  {
   "cell_type": "markdown",
   "metadata": {
    "application/vnd.databricks.v1+cell": {
     "cellMetadata": {},
     "inputWidgets": {},
     "nuid": "9ebea45b-f676-425f-8c78-f4ff53a1391c",
     "showTitle": false,
     "title": ""
    }
   },
   "source": [
    "&copy; 2023 Databricks, Inc. All rights reserved.<br/>\n",
    "Apache, Apache Spark, Spark and the Spark logo are trademarks of the <a href=\"https://www.apache.org/\">Apache Software Foundation</a>.<br/>\n",
    "<br/>\n",
    "<a href=\"https://databricks.com/privacy-policy\">Privacy Policy</a> | <a href=\"https://databricks.com/terms-of-use\">Terms of Use</a> | <a href=\"https://help.databricks.com/\">Support</a>"
   ]
  }
 ],
 "metadata": {
  "application/vnd.databricks.v1+notebook": {
   "dashboards": [],
   "environmentMetadata": null,
   "language": "python",
   "notebookMetadata": {
    "pythonIndentUnit": 2
   },
   "notebookName": "LLM 02L - LoRA with PEFT",
   "widgets": {}
  }
 },
 "nbformat": 4,
 "nbformat_minor": 0
}
